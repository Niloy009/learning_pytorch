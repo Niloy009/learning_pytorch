{
 "cells": [
  {
   "cell_type": "code",
   "execution_count": 1,
   "id": "3cf83041-a147-435d-be16-451441e8f4cb",
   "metadata": {},
   "outputs": [
    {
     "name": "stdout",
     "output_type": "stream",
     "text": [
      "2.5.1\n",
      "0.20.1\n"
     ]
    }
   ],
   "source": [
    "# import Pytorch\n",
    "import torch\n",
    "from torch import nn\n",
    "from torch.utils.data import DataLoader\n",
    "import torchvision\n",
    "from torchvision import datasets\n",
    "from torchvision.transforms import v2\n",
    "\n",
    "\n",
    "# Import matplotlib for visualization\n",
    "import matplotlib.pyplot as plt\n",
    "\n",
    "# Check versions\n",
    "print(torch.__version__)\n",
    "print(torchvision.__version__)"
   ]
  },
  {
   "cell_type": "markdown",
   "id": "4961970a-ad5e-4126-8a0f-2fd5b2232b65",
   "metadata": {},
   "source": [
    "## 1. getting the Dataset\n",
    "\n",
    "We will use [FashionMNIST Dataset](https://pytorch.org/vision/stable/generated/torchvision.datasets.FashionMNIST.html#torchvision.datasets.FashionMNIST)"
   ]
  },
  {
   "cell_type": "code",
   "execution_count": 2,
   "id": "b82d29da-fdc0-4398-b780-bd7b14bdb069",
   "metadata": {},
   "outputs": [],
   "source": [
    "# Setup training data\n",
    "train_data = datasets.FashionMNIST(root='data', \n",
    "                                   train=True, \n",
    "                                   download=True, \n",
    "                                   transform=v2.Compose([v2.ToImage(), v2.ToDtype(torch.float32, scale=True)]), \n",
    "                                   target_transform=None)\n",
    "\n",
    "test_data = datasets.FashionMNIST(root='data', \n",
    "                                  train=False, \n",
    "                                  download=True, \n",
    "                                  transform=v2.Compose([v2.ToImage(), v2.ToDtype(torch.float32, scale=True)]), \n",
    "                                  target_transform=None)"
   ]
  },
  {
   "cell_type": "code",
   "execution_count": 3,
   "id": "9470ee98-cf6e-4cfc-9a5b-3e3e2f6bba91",
   "metadata": {},
   "outputs": [
    {
     "data": {
      "text/plain": [
       "(60000, 10000)"
      ]
     },
     "execution_count": 3,
     "metadata": {},
     "output_type": "execute_result"
    }
   ],
   "source": [
    "len(train_data), len(test_data)"
   ]
  },
  {
   "cell_type": "code",
   "execution_count": 4,
   "id": "ff23bf19-e82b-4dbc-ae1b-664bfa0e956b",
   "metadata": {},
   "outputs": [
    {
     "data": {
      "text/plain": [
       "(torch.Size([1, 28, 28]), 9)"
      ]
     },
     "execution_count": 4,
     "metadata": {},
     "output_type": "execute_result"
    }
   ],
   "source": [
    "image, label = train_data[0]\n",
    "image.shape, label"
   ]
  },
  {
   "cell_type": "code",
   "execution_count": 5,
   "id": "f204411c-d2a0-4bd5-add1-fcbd910b6b76",
   "metadata": {},
   "outputs": [
    {
     "data": {
      "text/plain": [
       "['T-shirt/top',\n",
       " 'Trouser',\n",
       " 'Pullover',\n",
       " 'Dress',\n",
       " 'Coat',\n",
       " 'Sandal',\n",
       " 'Shirt',\n",
       " 'Sneaker',\n",
       " 'Bag',\n",
       " 'Ankle boot']"
      ]
     },
     "execution_count": 5,
     "metadata": {},
     "output_type": "execute_result"
    }
   ],
   "source": [
    "classes_name = train_data.classes\n",
    "classes_name"
   ]
  },
  {
   "cell_type": "code",
   "execution_count": 6,
   "id": "67fdda31-c93f-4271-ab87-83082f40ac06",
   "metadata": {},
   "outputs": [
    {
     "data": {
      "text/plain": [
       "{'T-shirt/top': 0,\n",
       " 'Trouser': 1,\n",
       " 'Pullover': 2,\n",
       " 'Dress': 3,\n",
       " 'Coat': 4,\n",
       " 'Sandal': 5,\n",
       " 'Shirt': 6,\n",
       " 'Sneaker': 7,\n",
       " 'Bag': 8,\n",
       " 'Ankle boot': 9}"
      ]
     },
     "execution_count": 6,
     "metadata": {},
     "output_type": "execute_result"
    }
   ],
   "source": [
    "classes_to_idx = train_data.class_to_idx\n",
    "classes_to_idx"
   ]
  },
  {
   "cell_type": "code",
   "execution_count": 7,
   "id": "889cbabb-3de2-47c2-8cae-97fb694f2376",
   "metadata": {},
   "outputs": [
    {
     "data": {
      "text/plain": [
       "tensor([9, 0, 0,  ..., 3, 0, 5])"
      ]
     },
     "execution_count": 7,
     "metadata": {},
     "output_type": "execute_result"
    }
   ],
   "source": [
    "train_data.targets"
   ]
  },
  {
   "cell_type": "markdown",
   "id": "991a1f79-4d99-4f51-a3c6-a256d20d6aaa",
   "metadata": {},
   "source": [
    "## 1.1 Check Input & Output shape of the data\n"
   ]
  },
  {
   "cell_type": "code",
   "execution_count": 8,
   "id": "5a5b88ff-2df2-4746-a910-00c304393705",
   "metadata": {},
   "outputs": [
    {
     "name": "stdout",
     "output_type": "stream",
     "text": [
      "The shape of the first input Image: torch.Size([1, 28, 28]) -> [color_channels, height, width]\n",
      "The label of the first input Image: Ankle boot\n"
     ]
    }
   ],
   "source": [
    "# Check the shape of the input & output data\n",
    "\n",
    "print(f\"The shape of the first input Image: {image.shape} -> [color_channels, height, width]\")\n",
    "print(f\"The label of the first input Image: {classes_name[label]}\")"
   ]
  },
  {
   "cell_type": "markdown",
   "id": "326649ac-1317-43e9-ac90-f96f7b3e1b00",
   "metadata": {},
   "source": [
    "## 1.2 Visualize the Data"
   ]
  },
  {
   "cell_type": "code",
   "execution_count": 9,
   "id": "aa30ec0b-d04e-48dc-b88f-c0abef015a90",
   "metadata": {},
   "outputs": [
    {
     "name": "stdout",
     "output_type": "stream",
     "text": [
      "Image shape: torch.Size([1, 28, 28])\n"
     ]
    },
    {
     "data": {
      "image/png": "[encoded data removed]",
      "text/plain": [
       "<Figure size 640x480 with 1 Axes>"
      ]
     },
     "metadata": {},
     "output_type": "display_data"
    }
   ],
   "source": [
    "print(f'Image shape: {image.shape}')\n",
    "plt.imshow(image.squeeze(), cmap='gray')\n",
    "plt.title(classes_name[label])\n",
    "plt.axis(False)\n",
    "plt.show()"
   ]
  },
  {
   "cell_type": "code",
   "execution_count": 10,
   "id": "bf9fc65d-daf6-4d29-a04f-019d18bd4ee1",
   "metadata": {},
   "outputs": [
    {
     "data": {
      "image/png": "[encoded data removed]",
      "text/plain": [
       "<Figure size 900x900 with 16 Axes>"
      ]
     },
     "metadata": {},
     "output_type": "display_data"
    }
   ],
   "source": [
    "# Plot more images\n",
    "\n",
    "# set random seed\n",
    "torch.manual_seed(42)\n",
    "\n",
    "fig = plt.figure(figsize=(9,9))\n",
    "rows, cols = 4, 4\n",
    "for i in range(1, rows*cols+1):\n",
    "    random_idx = torch.randint(low=0, high=len(train_data), size=[1]).item()\n",
    "    img, label = train_data[random_idx]\n",
    "    fig.add_subplot(rows,cols,i)\n",
    "    plt.imshow(img.squeeze(), cmap='gray')\n",
    "    plt.title(classes_name[label])\n",
    "    plt.axis(False)\n",
    "plt.show()\n",
    "    "
   ]
  },
  {
   "cell_type": "markdown",
   "id": "0efb5a58-d652-49e0-86eb-7b564b90ff6f",
   "metadata": {},
   "source": [
    "## 2. DataLoader"
   ]
  },
  {
   "cell_type": "code",
   "execution_count": 11,
   "id": "17adfa7a-ae07-4664-96da-1a676c8de8fd",
   "metadata": {},
   "outputs": [
    {
     "name": "stdout",
     "output_type": "stream",
     "text": [
      "DataLoaders: (<torch.utils.data.dataloader.DataLoader object at 0x7f7f51f0eb70>, <torch.utils.data.dataloader.DataLoader object at 0x7f7f5030d8e0>)\n",
      "Length of train_dataloader: 1875 batches of 32...\n",
      "Length of test_dataloader: 313 batches of 32...\n"
     ]
    }
   ],
   "source": [
    "# Setup the batch size as hyperparameter\n",
    "BATCH_SIZE = 32\n",
    "\n",
    "# Turn the dataset into iterable (batch sizes)\n",
    "train_dataloader = DataLoader(dataset=train_data, \n",
    "                              batch_size=BATCH_SIZE, \n",
    "                              shuffle=True)\n",
    "\n",
    "test_dataloader = DataLoader(dataset=test_data,\n",
    "                             batch_size=BATCH_SIZE,\n",
    "                             shuffle=False)\n",
    "\n",
    "# Let's check out what what we've created\n",
    "print(f\"DataLoaders: {train_dataloader, test_dataloader}\")\n",
    "print(f\"Length of train_dataloader: {len(train_dataloader)} batches of {BATCH_SIZE}...\")\n",
    "print(f\"Length of test_dataloader: {len(test_dataloader)} batches of {BATCH_SIZE}...\")"
   ]
  },
  {
   "cell_type": "code",
   "execution_count": 12,
   "id": "68a2e99a-b7b7-495b-b9ef-e2451abf0cb0",
   "metadata": {},
   "outputs": [
    {
     "data": {
      "text/plain": [
       "(torch.Size([32, 1, 28, 28]), torch.Size([32]))"
      ]
     },
     "execution_count": 12,
     "metadata": {},
     "output_type": "execute_result"
    }
   ],
   "source": [
    "# Check out what's inside the training dataloader\n",
    "train_features_batch, train_labels_batch = next(iter(train_dataloader))\n",
    "train_features_batch.shape, train_labels_batch.shape"
   ]
  },
  {
   "cell_type": "code",
   "execution_count": 13,
   "id": "d88dc4d2-69b0-4e15-9ecd-58706ec52a84",
   "metadata": {},
   "outputs": [
    {
     "data": {
      "image/png": "[encoded data removed]",
      "text/plain": [
       "<Figure size 640x480 with 1 Axes>"
      ]
     },
     "metadata": {},
     "output_type": "display_data"
    }
   ],
   "source": [
    "#Show a sample\n",
    "\n",
    "# torch.manual_seed(42)\n",
    "rand_idx = torch.randint(low=0, high=len(train_features_batch), size=[1]).item()\n",
    "img, label = train_features_batch[rand_idx], train_labels_batch[rand_idx]\n",
    "plt.imshow(img.squeeze(), cmap='gray')\n",
    "plt.title(classes_name[label])\n",
    "plt.axis(False)\n",
    "plt.show()"
   ]
  },
  {
   "cell_type": "markdown",
   "id": "7104a81d-5a22-447d-893b-809842e66437",
   "metadata": {},
   "source": [
    "## 3. Build a Baseline Model: Model_0\n"
   ]
  },
  {
   "cell_type": "code",
   "execution_count": 14,
   "id": "8dfd188e-2454-4145-83d4-a514b50a954a",
   "metadata": {},
   "outputs": [
    {
     "name": "stdout",
     "output_type": "stream",
     "text": [
      "Shape before flattening: torch.Size([1, 28, 28]) -> [color_channels, height, width]\n",
      "Shape after flattening: torch.Size([1, 784]) -> [color_channels, height*width]\n"
     ]
    }
   ],
   "source": [
    "# Create a flatten layer\n",
    "flatten_model = nn.Flatten()\n",
    "\n",
    "# Cretae some dummy data\n",
    "x = train_features_batch[0]\n",
    "\n",
    "output = flatten_model(x)\n",
    "\n",
    "# Print out what happened\n",
    "print(f\"Shape before flattening: {x.shape} -> [color_channels, height, width]\")\n",
    "print(f\"Shape after flattening: {output.shape} -> [color_channels, height*width]\")"
   ]
  },
  {
   "cell_type": "code",
   "execution_count": 15,
   "id": "32b08dd1-a373-4a8e-87c4-adcb283be492",
   "metadata": {},
   "outputs": [],
   "source": [
    "class FashionMNISTModelV0(nn.Module):\n",
    "    def __init__(self, \n",
    "                 input_shape: int,  \n",
    "                 output_shape: int, \n",
    "                 hidden_units: int):\n",
    "        super().__init__()\n",
    "        self.layer_stack = nn.Sequential(\n",
    "            nn.Flatten(),\n",
    "            nn.Linear(in_features=input_shape, out_features=hidden_units),\n",
    "            nn.Linear(in_features=hidden_units, out_features=output_shape)\n",
    "        )\n",
    "\n",
    "    def forward(self, x):\n",
    "        return self.layer_stack(x)\n",
    "        "
   ]
  },
  {
   "cell_type": "code",
   "execution_count": 16,
   "id": "2df42e8f-3e98-4ab7-aafd-b215b0795b00",
   "metadata": {},
   "outputs": [
    {
     "data": {
      "text/plain": [
       "FashionMNISTModelV0(\n",
       "  (layer_stack): Sequential(\n",
       "    (0): Flatten(start_dim=1, end_dim=-1)\n",
       "    (1): Linear(in_features=784, out_features=10, bias=True)\n",
       "    (2): Linear(in_features=10, out_features=10, bias=True)\n",
       "  )\n",
       ")"
      ]
     },
     "execution_count": 16,
     "metadata": {},
     "output_type": "execute_result"
    }
   ],
   "source": [
    "torch.manual_seed(42)\n",
    "\n",
    "\n",
    "# Setuo the model with input parameters\n",
    "model_0 = FashionMNISTModelV0(input_shape=28*28,\n",
    "                              hidden_units=10, \n",
    "                              output_shape=len(classes_name)).to('cpu')\n",
    "\n",
    "model_0\n"
   ]
  },
  {
   "cell_type": "code",
   "execution_count": 17,
   "id": "ee245a75-b407-448b-b34d-be0920eaed9a",
   "metadata": {},
   "outputs": [
    {
     "data": {
      "text/plain": [
       "torch.Size([1, 10])"
      ]
     },
     "execution_count": 17,
     "metadata": {},
     "output_type": "execute_result"
    }
   ],
   "source": [
    "dummy_x = torch.rand([1, 1, 28, 28])\n",
    "\n",
    "model_0(dummy_x).shape"
   ]
  },
  {
   "cell_type": "code",
   "execution_count": 18,
   "id": "497da7b0-6314-48b3-bce6-cc364d2d081d",
   "metadata": {},
   "outputs": [],
   "source": [
    "# Create Loss function, Optimizer and Evaluation Metrics (accuracy func)\n",
    "loss_fn = nn.CrossEntropyLoss()\n",
    "\n",
    "optimizer = torch.optim.SGD(params=model_0.parameters(),\n",
    "                            lr=0.1)\n",
    "\n",
    "from helper_functions import accuracy_fn\n"
   ]
  },
  {
   "cell_type": "markdown",
   "id": "43eadf4e-600e-4524-ad79-064558433079",
   "metadata": {},
   "source": [
    "### 3.1 Creating a function to time our experiments\n",
    "Machine learning is very experimental.\n",
    "\n",
    "Two of the main things you'll often want to track are:\n",
    "\n",
    "1. Model's performance (loss and accuracy values etc)\n",
    "2. How fast it runs"
   ]
  },
  {
   "cell_type": "code",
   "execution_count": 19,
   "id": "852c8fb7-8a83-44ae-b798-64d99bddf1e5",
   "metadata": {},
   "outputs": [],
   "source": [
    "from timeit import default_timer as timer\n",
    "\n",
    "def print_train_time(start_time: float,\n",
    "                     end_time: float,\n",
    "                     device: torch.device = None):\n",
    "    \"\"\"Print between start and end time\"\"\"\n",
    "    total_time = end_time - start_time\n",
    "    print(f\"Train time on {device}: {total_time:.3f} seconds\")\n",
    "    return total_time"
   ]
  },
  {
   "cell_type": "code",
   "execution_count": 20,
   "id": "c7488100-7c79-40a6-9626-77a9267bf0ba",
   "metadata": {},
   "outputs": [
    {
     "name": "stdout",
     "output_type": "stream",
     "text": [
      "time checking\n",
      "Train time on cpu: 0.000 seconds\n"
     ]
    },
    {
     "data": {
      "text/plain": [
       "0.0001441150000118796"
      ]
     },
     "execution_count": 20,
     "metadata": {},
     "output_type": "execute_result"
    }
   ],
   "source": [
    "start_time = timer()\n",
    "print('time checking')\n",
    "end_time = timer()\n",
    "print_train_time(start_time=start_time, end_time=end_time, device='cpu')"
   ]
  },
  {
   "cell_type": "markdown",
   "id": "2b5f7d01-b057-4f0b-af76-9071363c61c3",
   "metadata": {},
   "source": [
    "## 3.2 Some notes on **Batch** and **batch_sizes**:\n",
    "\n",
    "### batch_sizes = 32 \n",
    "- means in a **Fold or Batch** we have **32 data or images**\n",
    "\n",
    "### Fold or Batch:\n",
    "- Let, we have total data 60,000 and in each batch we have 32 images **(batch_sizes = 32)**. Now we want to calculate how many **Fold or Batch** by using, $$batch\\_number = \\frac{total\\_samples}{batch\\_sizes}$$\n",
    "- Here we have $$batch\\_number = \\frac{60000}{32}$$ $$batch\\_number = 1875$$"
   ]
  },
  {
   "cell_type": "code",
   "execution_count": 21,
   "id": "32935444-bf01-4cd2-9aac-dc9073e59d60",
   "metadata": {},
   "outputs": [
    {
     "data": {
      "application/vnd.jupyter.widget-view+json": {
       "model_id": "84aa6082f55e457485657a1562601e8a",
       "version_major": 2,
       "version_minor": 0
      },
      "text/plain": [
       "  0%|          | 0/3 [00:00<?, ?it/s]"
      ]
     },
     "metadata": {},
     "output_type": "display_data"
    },
    {
     "name": "stdout",
     "output_type": "stream",
     "text": [
      "Epoch: 0\n",
      "-------\n",
      "Looked at 0/60000 samples.\n",
      "Looked at 12800/60000 samples.\n",
      "Looked at 25600/60000 samples.\n",
      "Looked at 38400/60000 samples.\n",
      "Looked at 51200/60000 samples.\n",
      "\n",
      "Train loss: 0.5904 | Test loss: 0.5095 | Test acc: 82.0387\n",
      "Epoch: 1\n",
      "-------\n",
      "Looked at 0/60000 samples.\n",
      "Looked at 12800/60000 samples.\n",
      "Looked at 25600/60000 samples.\n",
      "Looked at 38400/60000 samples.\n",
      "Looked at 51200/60000 samples.\n",
      "\n",
      "Train loss: 0.4763 | Test loss: 0.4799 | Test acc: 83.1969\n",
      "Epoch: 2\n",
      "-------\n",
      "Looked at 0/60000 samples.\n",
      "Looked at 12800/60000 samples.\n",
      "Looked at 25600/60000 samples.\n",
      "Looked at 38400/60000 samples.\n",
      "Looked at 51200/60000 samples.\n",
      "\n",
      "Train loss: 0.4550 | Test loss: 0.4766 | Test acc: 83.4265\n",
      "Train time on cpu: 29.898 seconds\n"
     ]
    }
   ],
   "source": [
    "# Import tqdm for progress bar\n",
    "from tqdm.auto import tqdm\n",
    "\n",
    "# Set the seed and train start time\n",
    "torch.manual_seed(42)\n",
    "\n",
    "train_time_start_on_cpu = timer()\n",
    "\n",
    "# Set the number of Epochs\n",
    "epochs = 3\n",
    "\n",
    "# Create training and testing loop\n",
    "for epoch in tqdm(range(epochs)):\n",
    "    print(f\"Epoch: {epoch}\\n-------\")\n",
    "    ### Training\n",
    "    train_loss = 0\n",
    "    # Add a loop to loop through the training batches\n",
    "    for batch, (X,y) in enumerate(train_dataloader):\n",
    "        # Train Model\n",
    "        model_0.train()\n",
    "        # 1. Forward Pass\n",
    "        y_pred = model_0(X)\n",
    "\n",
    "        # 2. Calculate train loss per batch\n",
    "        loss = loss_fn(y_pred,y)\n",
    "        train_loss += loss # accumulate train loss\n",
    "\n",
    "        # 3. Optimize zero grad\n",
    "        optimizer.zero_grad()\n",
    "\n",
    "        # 4. loss backward\n",
    "        loss.backward()\n",
    "\n",
    "        # 5. Optimizer step\n",
    "        optimizer.step()\n",
    "\n",
    "        # print what happening\n",
    "        if batch % 400 == 0:\n",
    "            print(f\"Looked at {batch * len(X)}/{len(train_dataloader.dataset)} samples.\") # total number of sample after N th batch = N * len(X); len(X) defines how much data/img in one batch\n",
    "\n",
    "    # Divide total train loss by length of train dataloader\n",
    "    train_loss = train_loss / len(train_dataloader) # find the average trainloss in total 1875 batches\n",
    "\n",
    "\n",
    "    ### Testing\n",
    "    test_loss, test_acc = 0, 0\n",
    "\n",
    "    # model eval mode\n",
    "    model_0.eval()\n",
    "\n",
    "    # forward pass with inference_mode\n",
    "    with torch.inference_mode():\n",
    "        for X_test, y_test in test_dataloader:\n",
    "            # Forward Pass\n",
    "            test_pred = model_0(X_test)\n",
    "\n",
    "            # Calculate test loss accumatively\n",
    "            test_loss += loss_fn(test_pred, y_test)\n",
    "\n",
    "            # Calculate test accuracy\n",
    "            test_acc += accuracy_fn(y_test, test_pred.argmax(dim=1))\n",
    "\n",
    "        # Calculate the test loss average per batch\n",
    "        test_loss = test_loss / len(test_dataloader)\n",
    "\n",
    "        # Calculate the test acc average per batch\n",
    "        test_acc /= len(test_dataloader)\n",
    "\n",
    "\n",
    "    # Print out what's happening\n",
    "    print(f\"\\nTrain loss: {train_loss:.4f} | Test loss: {test_loss:.4f} | Test acc: {test_acc:.4f}\")\n",
    "\n",
    "            \n",
    "            \n",
    "\n",
    "train_time_end_on_cpu = timer()\n",
    "\n",
    "total_train_time_model_0 = print_train_time(start_time=train_time_start_on_cpu, \n",
    "                                            end_time=train_time_end_on_cpu, \n",
    "                                            device=str(next(model_0.parameters()).device))\n",
    "\n",
    "\n"
   ]
  },
  {
   "cell_type": "markdown",
   "id": "3d0c2b7f-53fa-4e5f-bb6e-172ec72a6d91",
   "metadata": {},
   "source": [
    "## 4. Make predictions and get Model 0 results\n"
   ]
  },
  {
   "cell_type": "code",
   "execution_count": 22,
   "id": "562e29af-0ed8-4a57-92ac-e441d7b7f150",
   "metadata": {},
   "outputs": [
    {
     "data": {
      "application/vnd.jupyter.widget-view+json": {
       "model_id": "7a2e4916f53349d9982fe4193de10336",
       "version_major": 2,
       "version_minor": 0
      },
      "text/plain": [
       "  0%|          | 0/313 [00:00<?, ?it/s]"
      ]
     },
     "metadata": {},
     "output_type": "display_data"
    },
    {
     "data": {
      "text/plain": [
       "{'model_name': 'FashionMNISTModelV0',\n",
       " 'model_test_loss': 0.47663894295692444,\n",
       " 'model_test_accuracy': 83.42651757188499}"
      ]
     },
     "execution_count": 22,
     "metadata": {},
     "output_type": "execute_result"
    }
   ],
   "source": [
    "torch.manual_seed(42)\n",
    "torch.cuda.manual_seed(42)\n",
    "def eval_model(model: torch.nn.Module, \n",
    "               data_loader: torch.utils.data.DataLoader,\n",
    "               loss_fn: torch.nn.Module,\n",
    "               accuracy_fn,\n",
    "               device: torch.device= None):\n",
    "    \"\"\"Evaluates a given model on a given dataset.\n",
    "\n",
    "    Args:\n",
    "        model (torch.nn.Module): A PyTorch model capable of making predictions on data_loader.\n",
    "        data_loader (torch.utils.data.DataLoader): The target dataset to predict on.\n",
    "        loss_fn (torch.nn.Module): The loss function of model.\n",
    "        accuracy_fn: An accuracy function to compare the models predictions to the truth labels.\n",
    "        device (str, optional): Target device to compute on. Defaults to device.\n",
    "\n",
    "    Returns:\n",
    "        (dict): Results of model making predictions on data_loader.\n",
    "    \"\"\"\n",
    "\n",
    "    test_loss, test_acc = 0, 0\n",
    "    model.eval()\n",
    "\n",
    "    with torch.inference_mode():\n",
    "        for X_test, y_test in tqdm(data_loader):\n",
    "\n",
    "            X_test, y_test = X_test.to(device), y_test.to(device)\n",
    "            # Make Prediction (Forward Pass)\n",
    "            test_pred = model(X_test)\n",
    "\n",
    "            # Accumulate loss & accuracy values per batch\n",
    "            test_loss += loss_fn(test_pred, y_test)\n",
    "            test_acc += accuracy_fn(y_test, test_pred.argmax(dim=1))\n",
    "\n",
    "        # Scale loss and acc to find the average loss/acc per batch\n",
    "        test_loss /= len(data_loader)\n",
    "        test_acc /= len(data_loader)\n",
    "\n",
    "    return {\n",
    "        \"model_name\": model.__class__.__name__,\n",
    "        \"model_test_loss\": test_loss.item(),\n",
    "        \"model_test_accuracy\": test_acc\n",
    "    }\n",
    "\n",
    "\n",
    "\n",
    "# Calculate model_0 value with test data\n",
    "model_0_test_results = eval_model(model=model_0,\n",
    "                                  data_loader=test_dataloader,\n",
    "                                  loss_fn=loss_fn, \n",
    "                                  accuracy_fn=accuracy_fn,\n",
    "                                  device='cpu')\n",
    "\n",
    "\n",
    "model_0_test_results\n",
    "\n"
   ]
  },
  {
   "cell_type": "code",
   "execution_count": null,
   "id": "32dd3056-109b-4061-8269-5d05603750b3",
   "metadata": {},
   "outputs": [],
   "source": []
  },
  {
   "cell_type": "markdown",
   "id": "ef126224-294f-4c8b-b850-52e497ffd529",
   "metadata": {},
   "source": [
    "#### Device Agnostic Code"
   ]
  },
  {
   "cell_type": "code",
   "execution_count": 23,
   "id": "6b05513b-c38b-48c2-82bb-5979132657f3",
   "metadata": {},
   "outputs": [
    {
     "name": "stdout",
     "output_type": "stream",
     "text": [
      "Sun Feb  9 13:58:55 2025       \n",
      "+---------------------------------------------------------------------------------------+\n",
      "| NVIDIA-SMI 535.183.01             Driver Version: 535.183.01   CUDA Version: 12.2     |\n",
      "|-----------------------------------------+----------------------+----------------------+\n",
      "| GPU  Name                 Persistence-M | Bus-Id        Disp.A | Volatile Uncorr. ECC |\n",
      "| Fan  Temp   Perf          Pwr:Usage/Cap |         Memory-Usage | GPU-Util  Compute M. |\n",
      "|                                         |                      |               MIG M. |\n",
      "|=========================================+======================+======================|\n",
      "|   0  NVIDIA GeForce GTX 1050 Ti     Off | 00000000:01:00.0  On |                  N/A |\n",
      "| N/A   42C    P8              N/A / ERR! |     49MiB /  4096MiB |      5%      Default |\n",
      "|                                         |                      |                  N/A |\n",
      "+-----------------------------------------+----------------------+----------------------+\n",
      "                                                                                         \n",
      "+---------------------------------------------------------------------------------------+\n",
      "| Processes:                                                                            |\n",
      "|  GPU   GI   CI        PID   Type   Process name                            GPU Memory |\n",
      "|        ID   ID                                                             Usage      |\n",
      "|=======================================================================================|\n",
      "|    0   N/A  N/A      1411      G   /usr/lib/xorg/Xorg                           45MiB |\n",
      "+---------------------------------------------------------------------------------------+\n"
     ]
    }
   ],
   "source": [
    "!nvidia-smi"
   ]
  },
  {
   "cell_type": "code",
   "execution_count": 24,
   "id": "4f0dff9a-97ab-46cb-8d72-d7b88941de47",
   "metadata": {},
   "outputs": [
    {
     "data": {
      "text/plain": [
       "'cuda'"
      ]
     },
     "execution_count": 24,
     "metadata": {},
     "output_type": "execute_result"
    }
   ],
   "source": [
    "device = 'cuda' if torch.cuda.is_available() else 'cpu'\n",
    "device"
   ]
  },
  {
   "cell_type": "markdown",
   "id": "bfa332f2-273b-4fe4-b01d-e6827abfd1b7",
   "metadata": {},
   "source": [
    "## Build a better Model with non-linearity"
   ]
  },
  {
   "cell_type": "code",
   "execution_count": 25,
   "id": "9545541a-0eea-424d-8496-fdfddb1ed24a",
   "metadata": {},
   "outputs": [],
   "source": [
    "# Create a Model with non-linear and linear layers\n",
    "\n",
    "class FashionMNISTMODELV1(nn.Module):\n",
    "    def __init__(self, \n",
    "                 input_shape: int,\n",
    "                 hidden_units: int, \n",
    "                 output_shape: int, \n",
    "                 ):\n",
    "        super().__init__()\n",
    "        self.layer_stack = nn.Sequential(\n",
    "            nn.Flatten(),\n",
    "            nn.Linear(in_features=input_shape, out_features=hidden_units),\n",
    "            nn.ReLU(),\n",
    "            nn.Linear(in_features=hidden_units, out_features=output_shape),\n",
    "            nn.ReLU()\n",
    "        )\n",
    "\n",
    "    def forward(self, x: torch.Tensor):\n",
    "        return self.layer_stack(x)"
   ]
  },
  {
   "cell_type": "code",
   "execution_count": 26,
   "id": "bdc1e724-a4aa-466c-b702-b1f034237950",
   "metadata": {},
   "outputs": [
    {
     "data": {
      "text/plain": [
       "device(type='cuda', index=0)"
      ]
     },
     "execution_count": 26,
     "metadata": {},
     "output_type": "execute_result"
    }
   ],
   "source": [
    "# Create an instance of mode_1 send it to device (GPU if it is available)\n",
    "\n",
    "torch.manual_seed(42)\n",
    "torch.cuda.manual_seed(42)\n",
    "\n",
    "model_1 = FashionMNISTMODELV1(input_shape=28*28,\n",
    "                              hidden_units=10,\n",
    "                              output_shape=len(classes_name)).to(device)\n",
    "next(model_1.parameters()).device"
   ]
  },
  {
   "cell_type": "markdown",
   "id": "29a0d31f-d6c4-4453-be5e-0ca38d37704e",
   "metadata": {},
   "source": [
    "## Setup Loss function, Optimizer & Evaluation Metric (i.e. Accuracy)"
   ]
  },
  {
   "cell_type": "code",
   "execution_count": 27,
   "id": "621ac3dc-b141-4385-b40a-a9503e17b5c9",
   "metadata": {},
   "outputs": [],
   "source": [
    "from helper_functions import accuracy_fn\n",
    "\n",
    "loss_fn = nn.CrossEntropyLoss()\n",
    "\n",
    "optimizer = torch.optim.SGD(params=model_1.parameters(),\n",
    "                            lr=0.1)\n"
   ]
  },
  {
   "cell_type": "markdown",
   "id": "544e4680-c44d-4b3a-acc5-96141203566e",
   "metadata": {},
   "source": [
    "## Functionalizing the training and testing / evaluation loop\n",
    "\n",
    "Create function for:\n",
    "\n",
    "* training loop: `train_step()`\n",
    "* testing loop: `test_step()` "
   ]
  },
  {
   "cell_type": "code",
   "execution_count": 28,
   "id": "7488cbec-adf8-4099-bd57-f757294a8dba",
   "metadata": {},
   "outputs": [],
   "source": [
    "def train_step(model: torch.nn.Module, \n",
    "               data_loader: torch.utils.data.DataLoader, \n",
    "               loss_fn: torch.nn.Module, \n",
    "               optimizer: torch.optim.Optimizer, \n",
    "               accuracy_fn,\n",
    "               device: torch.device = device) -> None:\n",
    "    \"\"\"Performs a training with model trying to learn on data_loader.\n",
    "\n",
    "    Args:\n",
    "        model (torch.nn.Module): A PyTorch model capable of making predictions on data_loader.\n",
    "        data_loader (torch.utils.data.DataLoader): The target dataset to predict on.\n",
    "        loss_fn (torch.nn.Module): The loss function of model.\n",
    "        optimizer (torch.optim.Optimizer): The optimizer of model \n",
    "        accuracy_fn: An accuracy function to compare the models predictions to the truth labels.\n",
    "        device (str, optional): Target device to compute on. Defaults to device.\n",
    "\n",
    "    Returns:\n",
    "        None: This function only prints train loss & accuracy. It does not return anything.\n",
    "    \"\"\"\n",
    "\n",
    "    train_loss, train_acc = 0, 0\n",
    "\n",
    "    # Train Model\n",
    "    model.train()\n",
    "    \n",
    "    for batch, (X_train,y_train) in enumerate(data_loader):\n",
    "\n",
    "        # Put data on target device\n",
    "        X_train, y_train = X_train.to(device), y_train.to(device)\n",
    "\n",
    "        # 1. Forward Pass\n",
    "        y_pred = model(X_train)\n",
    "    \n",
    "        # 2. Calculate train loss & accuracy per batch\n",
    "        loss = loss_fn(y_pred,y_train)\n",
    "        train_loss += loss # accumulate train loss\n",
    "\n",
    "        train_acc += accuracy_fn(y_true=y_train, y_pred=y_pred.argmax(dim=1))\n",
    "        \n",
    "    \n",
    "        # 3. Optimize zero grad\n",
    "        optimizer.zero_grad()\n",
    "    \n",
    "        # 4. loss backward\n",
    "        loss.backward()\n",
    "    \n",
    "        # 5. Optimizer step\n",
    "        optimizer.step()\n",
    "    \n",
    "    # Divide total train loss by length of train dataloader\n",
    "    train_loss = train_loss / len(data_loader) # find the average trainloss in whole batch\n",
    "    train_acc = train_acc / len(data_loader) # find the average train accuracy in whole batch\n",
    "    print(f\"Train loss: {train_loss:.5f} | Train acc: {train_acc:.2f}%\")\n",
    "    \n"
   ]
  },
  {
   "cell_type": "code",
   "execution_count": 29,
   "id": "81f35e79-5589-4b52-9870-6a0f01d18183",
   "metadata": {},
   "outputs": [],
   "source": [
    "def test_step(model: torch.nn.Module, \n",
    "              data_loader: torch.utils.data.DataLoader, \n",
    "              loss_fn: torch.nn.Module, \n",
    "              accuracy_fn,\n",
    "              device: torch.device = device) -> None:\n",
    "    \n",
    "    \"\"\"Performs a training with model trying to learn on data_loader.\n",
    "\n",
    "    Args:\n",
    "        model (torch.nn.Module): A PyTorch model capable of making predictions on data_loader.\n",
    "        data_loader (torch.utils.data.DataLoader): The target dataset to predict on.\n",
    "        loss_fn (torch.nn.Module): The loss function of model.\n",
    "        accuracy_fn: An accuracy function to compare the models predictions to the truth labels.\n",
    "        device (str, optional): Target device to compute on. Defaults to device.\n",
    "\n",
    "    Returns:\n",
    "        None: This function only prints test loss & accuracy. It does not return anything.\n",
    "    \"\"\"\n",
    "\n",
    "    test_loss, test_acc = 0, 0\n",
    "    \n",
    "    # Put the model in eval mode\n",
    "    model.eval()\n",
    "\n",
    "    # Turn on inference mode context manager\n",
    "    with torch.inference_mode():\n",
    "        for X_test, y_test in data_loader:\n",
    "            \n",
    "            # Send the data to the target device\n",
    "            X_test, y_test = X_test.to(device), y_test.to(device)\n",
    "\n",
    "            # 1. Forward pass (outputs raw logits)\n",
    "            test_pred = model(X_test)\n",
    "\n",
    "            # 2. Calculuate the loss/acc\n",
    "            test_loss += loss_fn(test_pred, y_test)\n",
    "            test_acc += accuracy_fn(y_true=y_test,\n",
    "                              y_pred=test_pred.argmax(dim=1)) # go from logits -> prediction labels \n",
    "\n",
    "        # Adjust metrics and print out\n",
    "        test_loss /= len(data_loader)\n",
    "        test_acc /= len(data_loader)\n",
    "        print(f\"Test loss: {test_loss:.5f} | Test acc: {test_acc:.2f}%\\n\")\n",
    "\n",
    "    "
   ]
  },
  {
   "cell_type": "code",
   "execution_count": 30,
   "id": "469fb647-0c0e-4e9b-b87f-f935e7da32b4",
   "metadata": {},
   "outputs": [
    {
     "data": {
      "application/vnd.jupyter.widget-view+json": {
       "model_id": "46214dcbed324714abfaaffcfa69f5c9",
       "version_major": 2,
       "version_minor": 0
      },
      "text/plain": [
       "  0%|          | 0/3 [00:00<?, ?it/s]"
      ]
     },
     "metadata": {},
     "output_type": "display_data"
    },
    {
     "name": "stdout",
     "output_type": "stream",
     "text": [
      "Epoch: 0\n",
      "---------\n",
      "Train loss: 1.09199 | Train acc: 61.34%\n",
      "Test loss: 0.95636 | Test acc: 65.00%\n",
      "\n",
      "Epoch: 1\n",
      "---------\n",
      "Train loss: 0.78101 | Train acc: 71.93%\n",
      "Test loss: 0.72227 | Test acc: 73.91%\n",
      "\n",
      "Epoch: 2\n",
      "---------\n",
      "Train loss: 0.67027 | Train acc: 75.94%\n",
      "Test loss: 0.68500 | Test acc: 75.02%\n",
      "\n",
      "Train time on cuda: 32.882 seconds\n"
     ]
    }
   ],
   "source": [
    "torch.manual_seed(42)\n",
    "torch.cuda.manual_seed(42)\n",
    "# measure time\n",
    "train_time_start_on_gpu = timer()\n",
    "\n",
    "# Set epochs\n",
    "epochs = 3\n",
    "\n",
    "# Create a optimization and evaluation loop using train_step() and test_step()\n",
    "for epoch in tqdm(range(epochs)):\n",
    "    print(f\"Epoch: {epoch}\\n---------\")\n",
    "    train_step(model=model_1, \n",
    "               data_loader=train_dataloader, \n",
    "               loss_fn=loss_fn, \n",
    "               optimizer=optimizer, \n",
    "               accuracy_fn=accuracy_fn, \n",
    "               device=device)\n",
    "    test_step(model=model_1, \n",
    "              data_loader=test_dataloader, \n",
    "              loss_fn=loss_fn, \n",
    "              accuracy_fn=accuracy_fn, \n",
    "              device=device)\n",
    "\n",
    "\n",
    "train_time_end_on_gpu = timer()\n",
    "\n",
    "total_train_time_model_1 = print_train_time(start_time=train_time_start_on_gpu, \n",
    "                                            end_time=train_time_end_on_gpu, \n",
    "                                            device=device)"
   ]
  },
  {
   "cell_type": "code",
   "execution_count": 31,
   "id": "8ff75f5f-419c-40ec-90af-9364f6549071",
   "metadata": {},
   "outputs": [
    {
     "data": {
      "application/vnd.jupyter.widget-view+json": {
       "model_id": "95a7a78c8be14b7aba2fc090425ce62a",
       "version_major": 2,
       "version_minor": 0
      },
      "text/plain": [
       "  0%|          | 0/313 [00:00<?, ?it/s]"
      ]
     },
     "metadata": {},
     "output_type": "display_data"
    },
    {
     "data": {
      "text/plain": [
       "{'model_name': 'FashionMNISTMODELV1',\n",
       " 'model_test_loss': 0.6850008964538574,\n",
       " 'model_test_accuracy': 75.01996805111821}"
      ]
     },
     "execution_count": 31,
     "metadata": {},
     "output_type": "execute_result"
    }
   ],
   "source": [
    "# Get model_1 results\n",
    "model_1_test_results = eval_model(model=model_1, \n",
    "                                  data_loader=test_dataloader, \n",
    "                                  loss_fn=loss_fn, \n",
    "                                  accuracy_fn=accuracy_fn, \n",
    "                                  device=device)\n",
    "model_1_test_results"
   ]
  },
  {
   "cell_type": "code",
   "execution_count": 32,
   "id": "8884a53b-8497-4c55-a702-c00c94bfe8dc",
   "metadata": {},
   "outputs": [
    {
     "data": {
      "text/plain": [
       "{'model_name': 'FashionMNISTModelV0',\n",
       " 'model_test_loss': 0.47663894295692444,\n",
       " 'model_test_accuracy': 83.42651757188499}"
      ]
     },
     "execution_count": 32,
     "metadata": {},
     "output_type": "execute_result"
    }
   ],
   "source": [
    "model_0_test_results"
   ]
  },
  {
   "cell_type": "markdown",
   "id": "304baebe-c6f5-4a64-aee8-be9acff5a7ab",
   "metadata": {},
   "source": [
    "## Model 2: Build a Convolutional Neural Network **CNN**\n",
    "\n",
    "CNN's are also known ConvNets.\n",
    "\n",
    "CNN's are known for their capabilities to find patterns in visual data.\n",
    "\n",
    "To find out what's happening inside a CNN, see this website: **https://poloclub.github.io/cnn-explainer/**"
   ]
  },
  {
   "cell_type": "code",
   "execution_count": 33,
   "id": "754bba08-2d2f-45cc-aa24-ba72e8372c80",
   "metadata": {},
   "outputs": [],
   "source": [
    "# Create a CNN\n",
    "\n",
    "class FashionMNISTModelV2(nn.Module):\n",
    "    \"\"\"\n",
    "    Model architecture that replicates the TinyVGG\n",
    "    model from CNN explainer website.\n",
    "    \"\"\"\n",
    "    def __init__(self, \n",
    "                 input_shape: int, \n",
    "                 hidden_shape: int, \n",
    "                 output_shape: int):\n",
    "        super().__init__()\n",
    "\n",
    "        self.conv_block_1 = nn.Sequential(\n",
    "            nn.Conv2d(in_channels=input_shape, out_channels=hidden_shape, kernel_size=3, stride=1, padding=1),\n",
    "            nn.ReLU(),\n",
    "            nn.Conv2d(in_channels=hidden_shape, out_channels=hidden_shape, kernel_size=3, stride=1, padding=1),\n",
    "            nn.ReLU(),\n",
    "            nn.MaxPool2d(kernel_size=2)\n",
    "        )\n",
    "        self.conv_block_2 = nn.Sequential(\n",
    "            nn.Conv2d(in_channels=hidden_shape, out_channels=hidden_shape, kernel_size=3, stride=1, padding=1),\n",
    "            nn.ReLU(),\n",
    "            nn.Conv2d(in_channels=hidden_shape, out_channels=hidden_shape, kernel_size=3, stride=1, padding=1),\n",
    "            nn.ReLU(),\n",
    "            nn.MaxPool2d(kernel_size=2)\n",
    "        )\n",
    "        self.classifier = nn.Sequential(\n",
    "            nn.Flatten(),\n",
    "            nn.Linear(in_features=hidden_shape*7*7, out_features=output_shape)\n",
    "        )\n",
    "\n",
    "\n",
    "    def forward(self, x):\n",
    "        x = self.conv_block_1(x)\n",
    "        # print(x.shape)\n",
    "        x = self.conv_block_2(x)\n",
    "        # print(x.shape)\n",
    "        x = self.classifier(x)\n",
    "        # print(x.shape)\n",
    "        return x\n",
    "\n",
    "        \n",
    "        \n",
    "        "
   ]
  },
  {
   "cell_type": "code",
   "execution_count": 34,
   "id": "c2166529-a18a-4b6e-826d-bf172ca7007f",
   "metadata": {},
   "outputs": [],
   "source": [
    "torch.manual_seed(42)\n",
    "\n",
    "model_2 = FashionMNISTModelV2(input_shape=1, \n",
    "                              hidden_shape=10, \n",
    "                              output_shape=len(classes_name)).to(device)\n"
   ]
  },
  {
   "cell_type": "markdown",
   "id": "2034088a-f22a-49e4-acc7-3c9b171446db",
   "metadata": {},
   "source": [
    "### Setup loss function, optimizer and accuracy\n",
    "\n"
   ]
  },
  {
   "cell_type": "code",
   "execution_count": 35,
   "id": "820a5089-e962-421c-bb6c-d4b138da092d",
   "metadata": {},
   "outputs": [],
   "source": [
    "loss_fn = nn.CrossEntropyLoss()\n",
    "\n",
    "optimizer = torch.optim.SGD(params=model_2.parameters(),\n",
    "                            lr=0.1)\n",
    "\n",
    "from helper_functions import accuracy_fn"
   ]
  },
  {
   "cell_type": "markdown",
   "id": "038dcae1-25e4-45d9-8444-e182536e7a41",
   "metadata": {},
   "source": [
    "### Train "
   ]
  },
  {
   "cell_type": "code",
   "execution_count": 36,
   "id": "312c996f-84db-4e23-8042-1d20e34d4a97",
   "metadata": {},
   "outputs": [
    {
     "data": {
      "application/vnd.jupyter.widget-view+json": {
       "model_id": "bcf3e9c60ba6428c9763f62cb37713a1",
       "version_major": 2,
       "version_minor": 0
      },
      "text/plain": [
       "  0%|          | 0/3 [00:00<?, ?it/s]"
      ]
     },
     "metadata": {},
     "output_type": "display_data"
    },
    {
     "name": "stdout",
     "output_type": "stream",
     "text": [
      "Epoch: 0\n",
      "---------\n",
      "Train loss: 0.59498 | Train acc: 78.36%\n",
      "Test loss: 0.39639 | Test acc: 85.92%\n",
      "\n",
      "Epoch: 1\n",
      "---------\n",
      "Train loss: 0.35978 | Train acc: 87.05%\n",
      "Test loss: 0.35013 | Test acc: 87.10%\n",
      "\n",
      "Epoch: 2\n",
      "---------\n",
      "Train loss: 0.31891 | Train acc: 88.50%\n",
      "Test loss: 0.31732 | Test acc: 88.86%\n",
      "\n",
      "Train time on cuda: 38.725 seconds\n"
     ]
    }
   ],
   "source": [
    "torch.manual_seed(42)\n",
    "torch.cuda.manual_seed(42)\n",
    "\n",
    "# Measure time\n",
    "train_start_time_model_2 = timer()\n",
    "\n",
    "epochs = 3\n",
    "\n",
    "for epoch in tqdm(range(epochs)):\n",
    "    print(f\"Epoch: {epoch}\\n---------\")\n",
    "    train_step(model=model_2, \n",
    "               data_loader=train_dataloader, \n",
    "               loss_fn=loss_fn, \n",
    "               optimizer=optimizer, \n",
    "               accuracy_fn=accuracy_fn, \n",
    "               device=device)\n",
    "    test_step(model=model_2, \n",
    "              data_loader=test_dataloader, \n",
    "              loss_fn=loss_fn, \n",
    "              accuracy_fn=accuracy_fn, \n",
    "              device=device)\n",
    "    \n",
    "\n",
    "train_end_time_model_2 = timer()\n",
    "\n",
    "total_train_time_model_2 = print_train_time(start_time=train_start_time_model_2, \n",
    "                                            end_time=train_end_time_model_2, \n",
    "                                            device=device)\n",
    "\n"
   ]
  },
  {
   "cell_type": "code",
   "execution_count": 37,
   "id": "2f51bbc6-4d5b-40b5-8e31-0ee615ee743e",
   "metadata": {},
   "outputs": [
    {
     "data": {
      "application/vnd.jupyter.widget-view+json": {
       "model_id": "056682129f354bdf9d8bc22f4b871077",
       "version_major": 2,
       "version_minor": 0
      },
      "text/plain": [
       "  0%|          | 0/313 [00:00<?, ?it/s]"
      ]
     },
     "metadata": {},
     "output_type": "display_data"
    },
    {
     "data": {
      "text/plain": [
       "{'model_name': 'FashionMNISTModelV2',\n",
       " 'model_test_loss': 0.31731659173965454,\n",
       " 'model_test_accuracy': 88.85782747603834}"
      ]
     },
     "execution_count": 37,
     "metadata": {},
     "output_type": "execute_result"
    }
   ],
   "source": [
    "# Get the model 2 result\n",
    "model_2_test_results = eval_model(model=model_2, \n",
    "                                  data_loader=test_dataloader, \n",
    "                                  loss_fn=loss_fn, \n",
    "                                  accuracy_fn=accuracy_fn, \n",
    "                                  device=device)\n",
    "\n",
    "\n",
    "\n",
    "\n",
    "\n",
    "model_2_test_results\n",
    "\n"
   ]
  },
  {
   "cell_type": "code",
   "execution_count": 38,
   "id": "80edf5fb-edd5-42cc-911d-7b6a5a5abb52",
   "metadata": {},
   "outputs": [
    {
     "data": {
      "text/html": [
       "<div>\n",
       "<style scoped>\n",
       "    .dataframe tbody tr th:only-of-type {\n",
       "        vertical-align: middle;\n",
       "    }\n",
       "\n",
       "    .dataframe tbody tr th {\n",
       "        vertical-align: top;\n",
       "    }\n",
       "\n",
       "    .dataframe thead th {\n",
       "        text-align: right;\n",
       "    }\n",
       "</style>\n",
       "<table border=\"1\" class=\"dataframe\">\n",
       "  <thead>\n",
       "    <tr style=\"text-align: right;\">\n",
       "      <th></th>\n",
       "      <th>model_name</th>\n",
       "      <th>model_test_loss</th>\n",
       "      <th>model_test_accuracy</th>\n",
       "      <th>training_time</th>\n",
       "    </tr>\n",
       "  </thead>\n",
       "  <tbody>\n",
       "    <tr>\n",
       "      <th>0</th>\n",
       "      <td>FashionMNISTModelV0</td>\n",
       "      <td>0.476639</td>\n",
       "      <td>83.426518</td>\n",
       "      <td>29.897844</td>\n",
       "    </tr>\n",
       "    <tr>\n",
       "      <th>1</th>\n",
       "      <td>FashionMNISTMODELV1</td>\n",
       "      <td>0.685001</td>\n",
       "      <td>75.019968</td>\n",
       "      <td>32.882259</td>\n",
       "    </tr>\n",
       "    <tr>\n",
       "      <th>2</th>\n",
       "      <td>FashionMNISTModelV2</td>\n",
       "      <td>0.317317</td>\n",
       "      <td>88.857827</td>\n",
       "      <td>38.725326</td>\n",
       "    </tr>\n",
       "  </tbody>\n",
       "</table>\n",
       "</div>"
      ],
      "text/plain": [
       "            model_name  model_test_loss  model_test_accuracy  training_time\n",
       "0  FashionMNISTModelV0         0.476639            83.426518      29.897844\n",
       "1  FashionMNISTMODELV1         0.685001            75.019968      32.882259\n",
       "2  FashionMNISTModelV2         0.317317            88.857827      38.725326"
      ]
     },
     "execution_count": 38,
     "metadata": {},
     "output_type": "execute_result"
    }
   ],
   "source": [
    "# Compare the models results\n",
    "import pandas as pd\n",
    "\n",
    "compare_df = pd.DataFrame([model_0_test_results,\n",
    "                           model_1_test_results,\n",
    "                           model_2_test_results])\n",
    "# Add traing time in df\n",
    "compare_df['training_time'] = [total_train_time_model_0,\n",
    "                               total_train_time_model_1, \n",
    "                               total_train_time_model_2]\n",
    "\n",
    "compare_df"
   ]
  },
  {
   "cell_type": "code",
   "execution_count": 39,
   "id": "b019b79e-499a-44d1-a8a3-6469f384e738",
   "metadata": {},
   "outputs": [
    {
     "data": {
      "image/png": "[encoded data removed]",
      "text/plain": [
       "<Figure size 640x480 with 1 Axes>"
      ]
     },
     "metadata": {},
     "output_type": "display_data"
    }
   ],
   "source": [
    "# visualize\n",
    "compare_df.set_index('model_name')['model_test_accuracy'].plot(kind=\"barh\")\n",
    "plt.xlabel(\"Accuracy %\")\n",
    "plt.ylabel('Model')\n",
    "plt.show()"
   ]
  },
  {
   "cell_type": "markdown",
   "id": "b5410d69-27a0-4264-9b0a-fb07a951b18f",
   "metadata": {},
   "source": [
    "## Make and evaluate random predictions with best model"
   ]
  },
  {
   "cell_type": "code",
   "execution_count": 40,
   "id": "f84b276b-46b3-48ba-8523-d68f86ed9ee3",
   "metadata": {},
   "outputs": [],
   "source": [
    "def make_predictions(model:torch.nn.Module,\n",
    "                    data: list, device: torch.device = device) -> torch.Tensor:\n",
    "\n",
    "    \"\"\"Make Predictions on Random Data\n",
    "\n",
    "    Args:\n",
    "        model (torch.nn.Module): A PyTorch model capable of making predictions on data.\n",
    "        data (list): The list of data.\\\n",
    "        device (str, optional): Target device to compute on. Defaults to device.\n",
    "\n",
    "    Returns:\n",
    "        Tensor: It returns the prediction probabilities tensor\n",
    "    \"\"\"\n",
    "    \n",
    "    pred_probs = []\n",
    "    model.to(device)\n",
    "    model.eval()\n",
    "\n",
    "    with torch.inference_mode():\n",
    "        for sample in data:\n",
    "            # print(sample.shape)\n",
    "            # Prepare the sample (add a batch and pass to the target device)\n",
    "            sample = torch.unsqueeze(sample, dim=0).to(device)\n",
    "            \n",
    "            # Forward pass (model outputs -> raw logits)\n",
    "            pred_logit = model(sample)\n",
    "            # print(f\"Pred_logit shape: {pred_logit.shape}\")\n",
    "            \n",
    "            # Get prediction probability (raw logit -> probability)\n",
    "            pred_prob = torch.softmax(pred_logit.squeeze(), dim=0)\n",
    "            # print(f\"Pred_prob shape: {pred_prob.shape}\")\n",
    "\n",
    "            # Get pred_prob off the GPU for further calculations\n",
    "            pred_probs.append(pred_prob.cpu())\n",
    "\n",
    "    # Stack the pred_probs turn into tensor\n",
    "    return torch.stack(pred_probs)\n",
    "\n"
   ]
  },
  {
   "cell_type": "code",
   "execution_count": 41,
   "id": "754b6896-1a26-48d6-a2b2-0ecb337077e9",
   "metadata": {},
   "outputs": [
    {
     "data": {
      "text/plain": [
       "torch.Size([1, 28, 28])"
      ]
     },
     "execution_count": 41,
     "metadata": {},
     "output_type": "execute_result"
    }
   ],
   "source": [
    "import random\n",
    "\n",
    "test_samples = []\n",
    "test_labels = []\n",
    "\n",
    "for sample, label in random.sample(list(test_data), k=9):\n",
    "    test_samples.append(sample)\n",
    "    test_labels.append(label)\n",
    "\n",
    "# View the first sample\n",
    "test_samples[0].shape"
   ]
  },
  {
   "cell_type": "code",
   "execution_count": 42,
   "id": "c75df0c9-a0a6-4550-861d-4857391faf70",
   "metadata": {},
   "outputs": [
    {
     "data": {
      "text/plain": [
       "tensor([[2.4737e-04, 5.5391e-06, 7.9121e-03, 3.8148e-06, 8.6605e-01, 1.9361e-07,\n",
       "         1.2567e-01, 2.5313e-06, 9.8789e-05, 4.7599e-06],\n",
       "        [8.4242e-08, 1.4070e-08, 3.2654e-08, 4.9459e-07, 6.7401e-07, 4.6980e-05,\n",
       "         1.6889e-07, 5.6564e-05, 2.6080e-05, 9.9987e-01]])"
      ]
     },
     "execution_count": 42,
     "metadata": {},
     "output_type": "execute_result"
    }
   ],
   "source": [
    "# Make Predictions\n",
    "pred_probs = make_predictions(model=model_2, data=test_samples, device=device)\n",
    "\n",
    "pred_probs[:2]"
   ]
  },
  {
   "cell_type": "code",
   "execution_count": 43,
   "id": "5d2409d1-7e99-4d7e-87fa-57852f1fccce",
   "metadata": {},
   "outputs": [
    {
     "data": {
      "text/plain": [
       "tensor([4, 9, 4, 7, 7, 8, 5, 4, 5])"
      ]
     },
     "execution_count": 43,
     "metadata": {},
     "output_type": "execute_result"
    }
   ],
   "source": [
    "# Convert probabilities to labels\n",
    "pred_labels = pred_probs.argmax(dim=1)\n",
    "pred_labels"
   ]
  },
  {
   "cell_type": "code",
   "execution_count": 44,
   "id": "89596f4b-48b0-4580-aa24-1a21d8da43f3",
   "metadata": {},
   "outputs": [
    {
     "data": {
      "text/plain": [
       "[4, 9, 2, 7, 7, 8, 5, 4, 5]"
      ]
     },
     "execution_count": 44,
     "metadata": {},
     "output_type": "execute_result"
    }
   ],
   "source": [
    "test_labels\n"
   ]
  },
  {
   "cell_type": "code",
   "execution_count": 45,
   "id": "06ca57d5-7b8e-48d8-bc97-a215b2b15b80",
   "metadata": {},
   "outputs": [
    {
     "data": {
      "image/png": "[encoded data removed]",
      "text/plain": [
       "<Figure size 900x900 with 9 Axes>"
      ]
     },
     "metadata": {},
     "output_type": "display_data"
    }
   ],
   "source": [
    "plt.figure(figsize=(9,9))\n",
    "nrows=3\n",
    "ncols=3\n",
    "\n",
    "for i, sample in enumerate(test_samples):\n",
    "    # create subplot\n",
    "    plt.subplot(nrows, ncols, i+1)\n",
    "\n",
    "    # plot the samle\n",
    "    plt.imshow(sample.squeeze(), cmap='gray')\n",
    "\n",
    "    # find the prediction label\n",
    "    pred_label = classes_name[pred_labels[i]]\n",
    "\n",
    "    # truth label\n",
    "    truth_label = classes_name[test_labels[i]]\n",
    "\n",
    "    # title text\n",
    "    title_text = f'Truth: {truth_label} | Prediction: {pred_label}'\n",
    "\n",
    "    if pred_label == truth_label:\n",
    "        plt.title(title_text, c='g', fontsize=8)\n",
    "    else:\n",
    "        plt.title(title_text, c='r', fontsize=8)\n",
    "\n",
    "    plt.axis(False)        \n",
    "    \n",
    "\n",
    "\n",
    "\n",
    "\n"
   ]
  },
  {
   "cell_type": "markdown",
   "id": "fa16c88d-b547-47ec-9ca7-bf39f5676251",
   "metadata": {},
   "source": [
    "## Making Confusion Matrix for futher prediction evaluation"
   ]
  },
  {
   "cell_type": "code",
   "execution_count": 46,
   "id": "38df49e6-24a8-433a-9870-2aaf2cb4ff48",
   "metadata": {},
   "outputs": [
    {
     "data": {
      "application/vnd.jupyter.widget-view+json": {
       "model_id": "001b37b26ab241429af5e9456efea5b4",
       "version_major": 2,
       "version_minor": 0
      },
      "text/plain": [
       "Making Predictions....:   0%|          | 0/313 [00:00<?, ?it/s]"
      ]
     },
     "metadata": {},
     "output_type": "display_data"
    }
   ],
   "source": [
    "from tqdm.auto import tqdm\n",
    "\n",
    "\n",
    "# 1. Make prediction with trained model\n",
    "y_preds = []\n",
    "\n",
    "model_2.eval()\n",
    "with torch.inference_mode():\n",
    "    for X, y in tqdm(test_dataloader, desc=\"Making Predictions....\"):\n",
    "        # send the data and target to the target device\n",
    "        X,y = X.to(device), y.to(device)\n",
    "\n",
    "        # make foward pass\n",
    "        y_logit = model_2(X)\n",
    "\n",
    "        # print(y_logit.shape)\n",
    "        # print(torch.softmax(y_logit, dim=1).argmax(dim=1).shape)\n",
    "    \n",
    "        # turn predictions from logits -> probabilities -> label\n",
    "        y_pred = torch.softmax(y_logit, dim=1).argmax(dim=1) # here in both case i want to calculate row wise. not column wise because column wise will be the probabilities along the batches not the labels \n",
    "\n",
    "        # put predictions on CPU\n",
    "        y_preds.append(y_pred.cpu())\n",
    "    # now Concatenate all the preds (all batches)\n",
    "    y_preds_tensor = torch.cat(y_preds)\n",
    "    # print(y_preds_tensor.shape)\n",
    "    "
   ]
  },
  {
   "cell_type": "code",
   "execution_count": 47,
   "id": "35bd0b6a-925a-4b74-b55f-89a1fde2bb98",
   "metadata": {},
   "outputs": [],
   "source": [
    "!pip install -qq mlxtend"
   ]
  },
  {
   "cell_type": "code",
   "execution_count": 57,
   "id": "db410534-4973-4c9c-a1b4-5c5edf3fd419",
   "metadata": {},
   "outputs": [],
   "source": [
    "from mlxtend.plotting import plot_confusion_matrix\n",
    "from torchmetrics import ConfusionMatrix"
   ]
  },
  {
   "cell_type": "code",
   "execution_count": 60,
   "id": "b1136b69-bf05-49e6-852b-aeda6b12e199",
   "metadata": {},
   "outputs": [
    {
     "data": {
      "image/png": "[encoded data removed]",
      "text/plain": [
       "<Figure size 1000x700 with 2 Axes>"
      ]
     },
     "metadata": {},
     "output_type": "display_data"
    }
   ],
   "source": [
    "# 2. Create the confusion matrix\n",
    "confmat = ConfusionMatrix(task='multiclass', num_classes=len(classes_name))\n",
    "confmat_tensor = confmat(preds=y_preds_tensor, \n",
    "                         target=test_data.targets)\n",
    "\n",
    "# 3. Plot the confusion matrix\n",
    "fig, ax = plot_confusion_matrix(conf_mat=confmat_tensor.numpy(), colorbar=True, class_names=classes_name, figsize=(10,7))"
   ]
  },
  {
   "cell_type": "code",
   "execution_count": 63,
   "id": "b13d07c4-0714-4ae7-a645-cb8aa5dd5df9",
   "metadata": {},
   "outputs": [
    {
     "name": "stdout",
     "output_type": "stream",
     "text": [
      "Saving model to: models/03_pytorch.computer_vision_fashion_mnist_Tiny_vgg.pth\n"
     ]
    }
   ],
   "source": [
    "from pathlib import Path\n",
    "\n",
    "# Create model path if it is not alread exist\n",
    "MODEL_PATH = Path('models')\n",
    "MODEL_PATH.mkdir(parents=True, exist_ok=True)\n",
    "\n",
    "# Create Model Save Path\n",
    "MODEL_NAME = \"03_pytorch.computer_vision_fashion_mnist_Tiny_vgg.pth\"\n",
    "MODEL_SAVE_PATH = MODEL_PATH / MODEL_NAME\n",
    "\n",
    "\n",
    "# Save the model\n",
    "print(f'Saving model to: {MODEL_SAVE_PATH}')\n",
    "torch.save(obj=model_2.state_dict(), f=MODEL_SAVE_PATH)\n"
   ]
  },
  {
   "cell_type": "code",
   "execution_count": 64,
   "id": "8c834254-c789-4ce7-9335-5bd72fa43ee3",
   "metadata": {},
   "outputs": [
    {
     "name": "stderr",
     "output_type": "stream",
     "text": [
      "/tmp/ipykernel_5512/1588420321.py:6: FutureWarning: You are using `torch.load` with `weights_only=False` (the current default value), which uses the default pickle module implicitly. It is possible to construct malicious pickle data which will execute arbitrary code during unpickling (See https://github.com/pytorch/pytorch/blob/main/SECURITY.md#untrusted-models for more details). In a future release, the default value for `weights_only` will be flipped to `True`. This limits the functions that could be executed during unpickling. Arbitrary objects will no longer be allowed to be loaded via this mode unless they are explicitly allowlisted by the user via `torch.serialization.add_safe_globals`. We recommend you start setting `weights_only=True` for any use case where you don't have full control of the loaded file. Please open an issue on GitHub for any issues related to this experimental feature.\n",
      "  loaded_model_2.load_state_dict(torch.load(f=MODEL_SAVE_PATH))\n"
     ]
    }
   ],
   "source": [
    "# Load the model\n",
    "# first create the model instance\n",
    "loaded_model_2 = FashionMNISTModelV2(input_shape=1, hidden_shape=10, output_shape=10)\n",
    "\n",
    "# Load the model state dict\n",
    "loaded_model_2.load_state_dict(torch.load(f=MODEL_SAVE_PATH))\n",
    "\n",
    "# Send the model to GPU\n",
    "loaded_model_2 = loaded_model_2.to(device)"
   ]
  },
  {
   "cell_type": "code",
   "execution_count": 65,
   "id": "4d2ec6fd-826e-4ba1-b3b0-b500f220c87d",
   "metadata": {},
   "outputs": [
    {
     "data": {
      "application/vnd.jupyter.widget-view+json": {
       "model_id": "817922dc085043dc8177de0cb28853b6",
       "version_major": 2,
       "version_minor": 0
      },
      "text/plain": [
       "  0%|          | 0/313 [00:00<?, ?it/s]"
      ]
     },
     "metadata": {},
     "output_type": "display_data"
    },
    {
     "data": {
      "text/plain": [
       "{'model_name': 'FashionMNISTModelV2',\n",
       " 'model_test_loss': 0.31731659173965454,\n",
       " 'model_test_accuracy': 88.85782747603834}"
      ]
     },
     "execution_count": 65,
     "metadata": {},
     "output_type": "execute_result"
    }
   ],
   "source": [
    "# Evaluate the loaded model\n",
    "\n",
    "torch.manual_seed(42)\n",
    "torch.cuda.manual_seed(42)\n",
    "\n",
    "loaded_model_2_results = eval_model(model=loaded_model_2, \n",
    "                                    data_loader=test_dataloader, \n",
    "                                    loss_fn=loss_fn, \n",
    "                                    accuracy_fn=accuracy_fn, \n",
    "                                    device=device)\n",
    "loaded_model_2_results"
   ]
  },
  {
   "cell_type": "code",
   "execution_count": 67,
   "id": "48b8a109-d8d9-4d7e-8f54-270a6ded3cec",
   "metadata": {},
   "outputs": [
    {
     "data": {
      "text/plain": [
       "tensor(True)"
      ]
     },
     "execution_count": 67,
     "metadata": {},
     "output_type": "execute_result"
    }
   ],
   "source": [
    "# Check to see if results are close to each other (if they are very far away, there may be an error)\n",
    "torch.isclose(torch.tensor(model_2_test_results['model_test_loss']),\n",
    "              torch.tensor(loaded_model_2_results['model_test_loss']),atol=1e-08)"
   ]
  }
 ],
 "metadata": {
  "kernelspec": {
   "display_name": "Python 3 (ipykernel)",
   "language": "python",
   "name": "python3"
  },
  "language_info": {
   "codemirror_mode": {
    "name": "ipython",
    "version": 3
   },
   "file_extension": ".py",
   "mimetype": "text/x-python",
   "name": "python",
   "nbconvert_exporter": "python",
   "pygments_lexer": "ipython3",
   "version": "3.12.8"
  }
 },
 "nbformat": 4,
 "nbformat_minor": 5
}
