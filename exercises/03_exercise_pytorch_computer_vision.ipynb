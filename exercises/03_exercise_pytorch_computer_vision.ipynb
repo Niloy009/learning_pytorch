{
 "cells": [
  {
   "cell_type": "markdown",
   "id": "0ece4dd2-6929-4403-97be-30f0e358ec69",
   "metadata": {},
   "source": [
    "I am practicing the exercise from this [link](https://www.learnpytorch.io/03_pytorch_computer_vision/#exercises)"
   ]
  },
  {
   "cell_type": "code",
   "execution_count": 1,
   "id": "724295d3-6798-41ec-9351-d7e2f9e8911e",
   "metadata": {},
   "outputs": [
    {
     "name": "stdout",
     "output_type": "stream",
     "text": [
      "Sun Feb  9 17:12:42 2025       \n",
      "+---------------------------------------------------------------------------------------+\n",
      "| NVIDIA-SMI 535.183.01             Driver Version: 535.183.01   CUDA Version: 12.2     |\n",
      "|-----------------------------------------+----------------------+----------------------+\n",
      "| GPU  Name                 Persistence-M | Bus-Id        Disp.A | Volatile Uncorr. ECC |\n",
      "| Fan  Temp   Perf          Pwr:Usage/Cap |         Memory-Usage | GPU-Util  Compute M. |\n",
      "|                                         |                      |               MIG M. |\n",
      "|=========================================+======================+======================|\n",
      "|   0  NVIDIA GeForce GTX 1050 Ti     Off | 00000000:01:00.0  On |                  N/A |\n",
      "| N/A   42C    P5              N/A / ERR! |     47MiB /  4096MiB |     16%      Default |\n",
      "|                                         |                      |                  N/A |\n",
      "+-----------------------------------------+----------------------+----------------------+\n",
      "                                                                                         \n",
      "+---------------------------------------------------------------------------------------+\n",
      "| Processes:                                                                            |\n",
      "|  GPU   GI   CI        PID   Type   Process name                            GPU Memory |\n",
      "|        ID   ID                                                             Usage      |\n",
      "|=======================================================================================|\n",
      "|    0   N/A  N/A      1411      G   /usr/lib/xorg/Xorg                           45MiB |\n",
      "+---------------------------------------------------------------------------------------+\n"
     ]
    }
   ],
   "source": [
    "# check for gpu\n",
    "!nvidia-smi"
   ]
  },
  {
   "cell_type": "code",
   "execution_count": 2,
   "id": "d5bf21d6-9acf-4f39-8a8c-c989b02abccd",
   "metadata": {},
   "outputs": [
    {
     "name": "stdout",
     "output_type": "stream",
     "text": [
      "2.5.1\n"
     ]
    }
   ],
   "source": [
    "import torch\n",
    "\n",
    "print(torch.__version__)"
   ]
  },
  {
   "cell_type": "code",
   "execution_count": 3,
   "id": "255ccd83-8b40-428b-a925-b135d7729864",
   "metadata": {},
   "outputs": [
    {
     "data": {
      "text/plain": [
       "'cuda'"
      ]
     },
     "execution_count": 3,
     "metadata": {},
     "output_type": "execute_result"
    }
   ],
   "source": [
    "# Device agnostic code\n",
    "device = 'cuda' if torch.cuda.is_available() else 'cpu'\n",
    "\n",
    "device\n"
   ]
  },
  {
   "cell_type": "markdown",
   "id": "7c0b65dd-bb73-4cc3-b597-aa591b3e9ff2",
   "metadata": {},
   "source": [
    "## Load the torchvision.datasets.MNIST() train and test datasets."
   ]
  },
  {
   "cell_type": "code",
   "execution_count": 7,
   "id": "50c067ed-078f-43bb-9163-62e7798883ca",
   "metadata": {},
   "outputs": [],
   "source": [
    "from torchvision import datasets\n",
    "from torchvision import transforms\n",
    "\n",
    "# Get the MNIST train dataset\n",
    "train_data = datasets.MNIST(root='data', \n",
    "                            train=True, \n",
    "                            download=True, \n",
    "                            transform=transforms.ToTensor(), \n",
    "                            target_transform=None)\n",
    "# Get the MNIST test dataset\n",
    "test_data = datasets.MNIST(root='data', \n",
    "                           train=False, \n",
    "                           download=True, \n",
    "                           transform=transforms.ToTensor(), \n",
    "                           target_transform=None)"
   ]
  },
  {
   "cell_type": "code",
   "execution_count": 8,
   "id": "4ad28a60-7d77-49db-93fe-c745e9634405",
   "metadata": {},
   "outputs": [
    {
     "data": {
      "text/plain": [
       "(60000, 10000)"
      ]
     },
     "execution_count": 8,
     "metadata": {},
     "output_type": "execute_result"
    }
   ],
   "source": [
    "len(train_data), len(test_data)"
   ]
  },
  {
   "cell_type": "code",
   "execution_count": 9,
   "id": "df5c3350-fd17-4e9c-be2a-bde227b7e3fb",
   "metadata": {},
   "outputs": [
    {
     "name": "stdout",
     "output_type": "stream",
     "text": [
      "Image Shape: torch.Size([1, 28, 28])\n",
      "\n",
      "Label: 5\n"
     ]
    }
   ],
   "source": [
    "# See the image shape and label of the data\n",
    "image, label = train_data[0]\n",
    "\n",
    "print(f\"Image Shape: {image.shape}\\n\")\n",
    "print(f\"Label: {label}\")"
   ]
  },
  {
   "cell_type": "code",
   "execution_count": 15,
   "id": "3cbfee1a-de81-473a-ac52-9e2c42024e6f",
   "metadata": {},
   "outputs": [
    {
     "name": "stdout",
     "output_type": "stream",
     "text": [
      "Class Names: ['0 - zero', '1 - one', '2 - two', '3 - three', '4 - four', '5 - five', '6 - six', '7 - seven', '8 - eight', '9 - nine']\n",
      "\n",
      "Index of the labels:\n",
      " {'0 - zero': 0, '1 - one': 1, '2 - two': 2, '3 - three': 3, '4 - four': 4, '5 - five': 5, '6 - six': 6, '7 - seven': 7, '8 - eight': 8, '9 - nine': 9}\n"
     ]
    }
   ],
   "source": [
    "# Get the class name\n",
    "class_names = train_data.classes\n",
    "print(f'Class Names: {class_names}\\n')\n",
    "\n",
    "# Get the labels idx\n",
    "class_names_idx = train_data.class_to_idx\n",
    "print(f\"Index of the labels:\\n {class_names_idx}\")"
   ]
  },
  {
   "cell_type": "markdown",
   "id": "6b38c081-553e-4c19-b350-22f68e8cc410",
   "metadata": {},
   "source": [
    "## Visualize at least 9 different samples of the MNIST training dataset."
   ]
  },
  {
   "cell_type": "code",
   "execution_count": 26,
   "id": "850b86a2-9eea-470d-9ffd-6199201e4013",
   "metadata": {},
   "outputs": [
    {
     "data": {
      "image/png": "[encoded data removed]",
      "text/plain": [
       "<Figure size 1000x700 with 9 Axes>"
      ]
     },
     "metadata": {},
     "output_type": "display_data"
    }
   ],
   "source": [
    "import matplotlib.pyplot as plt\n",
    "\n",
    "nrows = 3\n",
    "ncols = 3\n",
    "fig = plt.figure(figsize=(10,7))\n",
    "for i in range(1,nrows*ncols+1):\n",
    "    # set random image\n",
    "    random_idx = torch.randint(low=0, high=len(train_data), size=[1]).item()\n",
    "    fig.add_subplot(nrows, ncols, i)\n",
    "    img, label = train_data[random_idx]\n",
    "    plt.imshow(img.squeeze(), cmap='gray')\n",
    "    plt.title(class_names[label])\n",
    "    plt.axis(False)\n",
    "plt.show() \n"
   ]
  },
  {
   "cell_type": "markdown",
   "id": "6056b8c9-ee4f-4d72-abd7-13ece51ba229",
   "metadata": {},
   "source": [
    "## Turn the MNIST train and test datasets into dataloaders using torch.utils.data.DataLoader, set the batch_size=32."
   ]
  },
  {
   "cell_type": "code",
   "execution_count": 29,
   "id": "af0707bc-4653-4344-aa94-8c899e0c8308",
   "metadata": {},
   "outputs": [
    {
     "name": "stdout",
     "output_type": "stream",
     "text": [
      "Length of train dataloaders: 1875 batchs of 32\n",
      "Length of test dataloaders: 313 batchs of 32\n"
     ]
    }
   ],
   "source": [
    "from torch.utils.data import DataLoader\n",
    "\n",
    "# Set the batch sizes 32 (i.e. in one batch we have 32 images)\n",
    "BATCH_SIZES = 32\n",
    "\n",
    "# Create train dataloader\n",
    "train_dataloader = DataLoader(dataset=train_data, \n",
    "                              batch_size=BATCH_SIZES, \n",
    "                              shuffle=True)\n",
    "# Create test dataloader\n",
    "test_dataloader = DataLoader(dataset=test_data, \n",
    "                             batch_size=BATCH_SIZES, \n",
    "                             shuffle=False)\n",
    "\n",
    "# see what we have created\n",
    "print(f\"Length of train dataloaders: {len(train_dataloader)} batchs of {BATCH_SIZES}\")\n",
    "print(f\"Length of test dataloaders: {len(test_dataloader)} batchs of {BATCH_SIZES}\")"
   ]
  },
  {
   "cell_type": "markdown",
   "id": "6d67e090-846e-4e9c-bba3-0c94dfbb96d1",
   "metadata": {},
   "source": [
    "## Recreate model_2 used in notebook 03 (the same model from the CNN Explainer website, also known as TinyVGG) capable of fitting on the MNIST dataset."
   ]
  },
  {
   "cell_type": "code",
   "execution_count": 40,
   "id": "3a6fa046-e45d-4852-9e9d-8ba378dc5777",
   "metadata": {},
   "outputs": [],
   "source": [
    "from torch import nn\n",
    "class MNISTMODELV1(nn.Module):\n",
    "    \"\"\"Model that capable of predicting MNIST dataset\n",
    "    \"\"\"\n",
    "\n",
    "    def __init__(self, input_shape: int, hidden_unit: int, output_shape: int):\n",
    "        super().__init__()\n",
    "        self.conv_block_1 = nn.Sequential(\n",
    "            nn.Conv2d(in_channels=input_shape, out_channels=hidden_unit, kernel_size=3, stride=1, padding=1),\n",
    "            nn.ReLU(),\n",
    "            nn.Conv2d(in_channels=hidden_unit, out_channels=hidden_unit, kernel_size=3, stride=1, padding=1),\n",
    "            nn.ReLU(),\n",
    "            nn.MaxPool2d(kernel_size=2)\n",
    "        )\n",
    "        self.conv_block_2 = nn.Sequential(\n",
    "            nn.Conv2d(in_channels=hidden_unit, out_channels=hidden_unit, kernel_size=3, stride=1, padding=1),\n",
    "            nn.ReLU(),\n",
    "            nn.Conv2d(in_channels=hidden_unit, out_channels=hidden_unit, kernel_size=3, stride=1, padding=1),\n",
    "            nn.ReLU(),\n",
    "            nn.MaxPool2d(kernel_size=2)\n",
    "        )\n",
    "        self.classifier = nn.Sequential(\n",
    "            nn.Flatten(),\n",
    "            nn.Linear(in_features=hidden_unit*7*7, out_features=output_shape)\n",
    "        )\n",
    "\n",
    "    def forward(self,x):\n",
    "        x = self.conv_block_1(x)\n",
    "        # print(f\"after conv block 1: {x.shape}\")\n",
    "        x = self.conv_block_2(x)\n",
    "        # print(f\"after conv block 2: {x.shape}\")\n",
    "        x = self.classifier(x)\n",
    "        # print(f\"after classifier: {x.shape}\")\n",
    "        return x\n",
    "\n",
    "        \n",
    "# create model instance and target to device\n",
    "model_1 = MNISTMODELV1(input_shape=1, \n",
    "                       hidden_unit=10, \n",
    "                       output_shape=len(class_names)).to(device)\n"
   ]
  },
  {
   "cell_type": "code",
   "execution_count": null,
   "id": "de965646-d462-42dc-a32d-26c783a12f60",
   "metadata": {},
   "outputs": [],
   "source": []
  },
  {
   "cell_type": "code",
   "execution_count": null,
   "id": "fb348500-5512-406e-9f42-7463985991dc",
   "metadata": {},
   "outputs": [],
   "source": []
  },
  {
   "cell_type": "code",
   "execution_count": null,
   "id": "f3f29bb4-20c5-4bc5-945a-99d729214ac2",
   "metadata": {},
   "outputs": [],
   "source": []
  },
  {
   "cell_type": "code",
   "execution_count": null,
   "id": "13f21ae3-3add-428f-9377-d287ca217dda",
   "metadata": {},
   "outputs": [],
   "source": []
  }
 ],
 "metadata": {
  "kernelspec": {
   "display_name": "Python 3 (ipykernel)",
   "language": "python",
   "name": "python3"
  },
  "language_info": {
   "codemirror_mode": {
    "name": "ipython",
    "version": 3
   },
   "file_extension": ".py",
   "mimetype": "text/x-python",
   "name": "python",
   "nbconvert_exporter": "python",
   "pygments_lexer": "ipython3",
   "version": "3.12.8"
  }
 },
 "nbformat": 4,
 "nbformat_minor": 5
}
