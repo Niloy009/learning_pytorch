{
 "cells": [
  {
   "cell_type": "code",
   "execution_count": 1,
   "id": "55a43f98-9020-46ff-baac-37dd2a66dc5d",
   "metadata": {},
   "outputs": [
    {
     "data": {
      "text/plain": [
       "{1: 'data (prepare and load)',\n",
       " 2: 'build model',\n",
       " 3: 'fitting the model to data (training)',\n",
       " 4: 'making predictions and evaluating a model (inference)',\n",
       " 5: 'saving and loading a model',\n",
       " 6: 'putting it all together'}"
      ]
     },
     "execution_count": 1,
     "metadata": {},
     "output_type": "execute_result"
    }
   ],
   "source": [
    "what_were_covering = {1: \"data (prepare and load)\",\n",
    "    2: \"build model\",\n",
    "    3: \"fitting the model to data (training)\",\n",
    "    4: \"making predictions and evaluating a model (inference)\",\n",
    "    5: \"saving and loading a model\",\n",
    "    6: \"putting it all together\"\n",
    "}\n",
    "what_were_covering\n"
   ]
  },
  {
   "cell_type": "code",
   "execution_count": 1,
   "id": "f3203507-2f9b-409a-989f-1a3847d76137",
   "metadata": {},
   "outputs": [
    {
     "data": {
      "text/plain": [
       "'2.5.1'"
      ]
     },
     "execution_count": 1,
     "metadata": {},
     "output_type": "execute_result"
    }
   ],
   "source": [
    "import torch\n",
    "from torch import nn # nn contains all of PyTorch's building blocks for neural networks\n",
    "import matplotlib.pyplot as plt\n",
    "from pathlib import Path\n",
    "\n",
    "#check torch version\n",
    "torch.__version__"
   ]
  },
  {
   "cell_type": "markdown",
   "id": "5ee15d37-171c-4007-8829-6ed876fc4828",
   "metadata": {},
   "source": [
    "## 1. Data (prepare & load)"
   ]
  },
  {
   "cell_type": "code",
   "execution_count": 2,
   "id": "3e276f65-fece-477e-8232-443c4ffd155f",
   "metadata": {},
   "outputs": [
    {
     "name": "stdout",
     "output_type": "stream",
     "text": [
      "X:\n",
      " tensor([[0.0000],\n",
      "        [0.0200],\n",
      "        [0.0400],\n",
      "        [0.0600],\n",
      "        [0.0800],\n",
      "        [0.1000],\n",
      "        [0.1200],\n",
      "        [0.1400],\n",
      "        [0.1600],\n",
      "        [0.1800],\n",
      "        [0.2000],\n",
      "        [0.2200],\n",
      "        [0.2400],\n",
      "        [0.2600],\n",
      "        [0.2800],\n",
      "        [0.3000],\n",
      "        [0.3200],\n",
      "        [0.3400],\n",
      "        [0.3600],\n",
      "        [0.3800],\n",
      "        [0.4000],\n",
      "        [0.4200],\n",
      "        [0.4400],\n",
      "        [0.4600],\n",
      "        [0.4800],\n",
      "        [0.5000],\n",
      "        [0.5200],\n",
      "        [0.5400],\n",
      "        [0.5600],\n",
      "        [0.5800],\n",
      "        [0.6000],\n",
      "        [0.6200],\n",
      "        [0.6400],\n",
      "        [0.6600],\n",
      "        [0.6800],\n",
      "        [0.7000],\n",
      "        [0.7200],\n",
      "        [0.7400],\n",
      "        [0.7600],\n",
      "        [0.7800],\n",
      "        [0.8000],\n",
      "        [0.8200],\n",
      "        [0.8400],\n",
      "        [0.8600],\n",
      "        [0.8800],\n",
      "        [0.9000],\n",
      "        [0.9200],\n",
      "        [0.9400],\n",
      "        [0.9600],\n",
      "        [0.9800]])\n",
      "\n",
      "y: tensor([[0.3000],\n",
      "        [0.3140],\n",
      "        [0.3280],\n",
      "        [0.3420],\n",
      "        [0.3560],\n",
      "        [0.3700],\n",
      "        [0.3840],\n",
      "        [0.3980],\n",
      "        [0.4120],\n",
      "        [0.4260],\n",
      "        [0.4400],\n",
      "        [0.4540],\n",
      "        [0.4680],\n",
      "        [0.4820],\n",
      "        [0.4960],\n",
      "        [0.5100],\n",
      "        [0.5240],\n",
      "        [0.5380],\n",
      "        [0.5520],\n",
      "        [0.5660],\n",
      "        [0.5800],\n",
      "        [0.5940],\n",
      "        [0.6080],\n",
      "        [0.6220],\n",
      "        [0.6360],\n",
      "        [0.6500],\n",
      "        [0.6640],\n",
      "        [0.6780],\n",
      "        [0.6920],\n",
      "        [0.7060],\n",
      "        [0.7200],\n",
      "        [0.7340],\n",
      "        [0.7480],\n",
      "        [0.7620],\n",
      "        [0.7760],\n",
      "        [0.7900],\n",
      "        [0.8040],\n",
      "        [0.8180],\n",
      "        [0.8320],\n",
      "        [0.8460],\n",
      "        [0.8600],\n",
      "        [0.8740],\n",
      "        [0.8880],\n",
      "        [0.9020],\n",
      "        [0.9160],\n",
      "        [0.9300],\n",
      "        [0.9440],\n",
      "        [0.9580],\n",
      "        [0.9720],\n",
      "        [0.9860]])\n",
      "Length of X: 50\n",
      "Length of y: 50\n"
     ]
    }
   ],
   "source": [
    "weight = 0.7\n",
    "bias = 0.3\n",
    "\n",
    "X = torch.arange(start=0, end=1, step=0.02).unsqueeze(dim=1)\n",
    "y = weight * X + bias\n",
    "\n",
    "print(f'X:\\n {X}')\n",
    "print(f'\\ny: {y}')\n",
    "print(f'Length of X: {len(X)}')\n",
    "print(f'Length of y: {len(y)}')"
   ]
  },
  {
   "cell_type": "code",
   "execution_count": 3,
   "id": "ec42559b-8599-4f7e-825e-5eb56efc099d",
   "metadata": {},
   "outputs": [
    {
     "data": {
      "text/plain": [
       "(40, 40, 10, 10)"
      ]
     },
     "execution_count": 3,
     "metadata": {},
     "output_type": "execute_result"
    }
   ],
   "source": [
    "# Split the data in train split(80%) & test split(20%)\n",
    "\n",
    "train_split = int(0.8 * len(X))\n",
    "X_train, y_train = X[:train_split], y[:train_split]\n",
    "X_test, y_test = X[train_split:], y[train_split:]\n",
    "\n",
    "len(X_train), len(y_train), len(X_test), len(y_test)\n"
   ]
  },
  {
   "cell_type": "code",
   "execution_count": 4,
   "id": "9bd4b3f6-3c60-4a0b-8bcf-75cf1ec82a95",
   "metadata": {},
   "outputs": [],
   "source": [
    "# plot the train and test data and predictions\n",
    "\n",
    "\n",
    "def plot_train_test_pred(train_data=X_train,\n",
    "                         train_labels=y_train,\n",
    "                         test_data=X_test,\n",
    "                         test_labels=y_test,\n",
    "                         pred=None):\n",
    "    \"\"\"\n",
    "    Plots training data, test data and compares predictions.\n",
    "    \"\"\"\n",
    "\n",
    "    # plot the train data\n",
    "    plt.scatter(train_data, train_labels, c='b', s=4, label=\"Training Data\")\n",
    "\n",
    "    #plot the test data\n",
    "    plt.scatter(test_data, test_labels, c='g', s=4, label='Test Data')\n",
    "\n",
    "\n",
    "    if pred is not None:\n",
    "        plt.scatter(test_data, pred, c='r', s=4, label='Predictions')\n",
    "\n",
    "    # Show the legend\n",
    "    plt.legend(prop={\"size\": 14});\n",
    "\n"
   ]
  },
  {
   "cell_type": "code",
   "execution_count": 5,
   "id": "912ee2ce-f480-4eda-b15f-7f6258e12945",
   "metadata": {},
   "outputs": [
    {
     "data": {
      "image/png": "[encoded data removed]",
      "text/plain": [
       "<Figure size 640x480 with 1 Axes>"
      ]
     },
     "metadata": {},
     "output_type": "display_data"
    }
   ],
   "source": [
    "plot_train_test_pred()"
   ]
  },
  {
   "cell_type": "code",
   "execution_count": 6,
   "id": "9366c964-0094-40b5-9fc8-d9d3a63b938c",
   "metadata": {},
   "outputs": [],
   "source": [
    "# Build a Model\n",
    "\n",
    "\n",
    "# Create LinearRegressionModel Class\n",
    "\n",
    "class LinearRegressionModel(nn.Module): # <- almost everything in PyTorch is a nn.Module (think of this as neural network lego blocks)\n",
    "    def __init__(self):\n",
    "        super().__init__()\n",
    "        self.weights = nn.Parameter(torch.randn(1, dtype= torch.float), \n",
    "                                    requires_grad=True) # <- can we update this value with gradient descent?)\n",
    "\n",
    "        self.bias = nn.Parameter(torch.randn(1, dtype= torch.float),\n",
    "                                 requires_grad=True) # <- can we update this value with gradient descent?)\n",
    "\n",
    "\n",
    "\n",
    "    # Forward defines the computation in the model\n",
    "    def forward(self, x:torch.Tensor) -> torch.Tensor: # <- \"x\" is the input data (e.g. training/testing features)\n",
    "        return self.weights * x + self.bias  # <- this is the linear regression formula (y = m*x + b)\n",
    "        \n",
    "        \n",
    "    "
   ]
  },
  {
   "cell_type": "code",
   "execution_count": 7,
   "id": "8db5c696-bc20-41a7-aa2f-b39964207e76",
   "metadata": {},
   "outputs": [
    {
     "data": {
      "text/plain": [
       "[Parameter containing:\n",
       " tensor([0.3367], requires_grad=True),\n",
       " Parameter containing:\n",
       " tensor([0.1288], requires_grad=True)]"
      ]
     },
     "execution_count": 7,
     "metadata": {},
     "output_type": "execute_result"
    }
   ],
   "source": [
    "# Set random seed as parameters are generated randomly\n",
    "torch.manual_seed(42)\n",
    "\n",
    "# Create an instance of the LinearRegressionModel Class\n",
    "model_0 = LinearRegressionModel()\n",
    "\n",
    "# Check the parameters\n",
    "list(model_0.parameters())\n"
   ]
  },
  {
   "cell_type": "code",
   "execution_count": 8,
   "id": "1e099575-6bc7-4f08-bf13-95ff04778101",
   "metadata": {},
   "outputs": [
    {
     "data": {
      "text/plain": [
       "OrderedDict([('weights', tensor([0.3367])), ('bias', tensor([0.1288]))])"
      ]
     },
     "execution_count": 8,
     "metadata": {},
     "output_type": "execute_result"
    }
   ],
   "source": [
    "# List named parameters \n",
    "model_0.state_dict()"
   ]
  },
  {
   "cell_type": "code",
   "execution_count": 9,
   "id": "85a21a8c-b551-4db8-8f81-1b08532c6b58",
   "metadata": {},
   "outputs": [
    {
     "data": {
      "text/plain": [
       "(0.7, 0.3)"
      ]
     },
     "execution_count": 9,
     "metadata": {},
     "output_type": "execute_result"
    }
   ],
   "source": [
    "weight, bias"
   ]
  },
  {
   "cell_type": "code",
   "execution_count": 10,
   "id": "50405676-dc3b-4231-b171-c929c6a5aa2d",
   "metadata": {},
   "outputs": [
    {
     "data": {
      "text/plain": [
       "tensor([[0.8600],\n",
       "        [0.8740],\n",
       "        [0.8880],\n",
       "        [0.9020],\n",
       "        [0.9160],\n",
       "        [0.9300],\n",
       "        [0.9440],\n",
       "        [0.9580],\n",
       "        [0.9720],\n",
       "        [0.9860]])"
      ]
     },
     "execution_count": 10,
     "metadata": {},
     "output_type": "execute_result"
    }
   ],
   "source": [
    "y_test"
   ]
  },
  {
   "cell_type": "code",
   "execution_count": 11,
   "id": "8d623920-fd30-4d70-9a53-c132e91983cc",
   "metadata": {},
   "outputs": [
    {
     "data": {
      "text/plain": [
       "tensor([[0.3982],\n",
       "        [0.4049],\n",
       "        [0.4116],\n",
       "        [0.4184],\n",
       "        [0.4251],\n",
       "        [0.4318],\n",
       "        [0.4386],\n",
       "        [0.4453],\n",
       "        [0.4520],\n",
       "        [0.4588]])"
      ]
     },
     "execution_count": 11,
     "metadata": {},
     "output_type": "execute_result"
    }
   ],
   "source": [
    "# Make some predictions\n",
    "with torch.inference_mode():\n",
    "    y_pred = model_0(X_test)\n",
    "\n",
    "y_pred\n",
    "    "
   ]
  },
  {
   "cell_type": "code",
   "execution_count": 12,
   "id": "269706f1-514d-4972-8589-5805bde36cef",
   "metadata": {},
   "outputs": [
    {
     "data": {
      "image/png": "[encoded data removed]",
      "text/plain": [
       "<Figure size 640x480 with 1 Axes>"
      ]
     },
     "metadata": {},
     "output_type": "display_data"
    }
   ],
   "source": [
    "plot_train_test_pred(pred=y_pred)"
   ]
  },
  {
   "cell_type": "code",
   "execution_count": 13,
   "id": "55cfe584-de20-4e81-bd31-4c266ea7b4d4",
   "metadata": {},
   "outputs": [],
   "source": [
    "# Setup Loss Function (here we use L1 Loss)\n",
    "loss_fn = nn.L1Loss()\n",
    "\n",
    "# Setup an Optimizer (here we use SGD= Stochastic Gradient Descend)\n",
    "optimizer = torch.optim.SGD(params=model_0.parameters(), lr=0.01)\n"
   ]
  },
  {
   "cell_type": "markdown",
   "id": "af07b84a-e2c4-4447-b3f6-c36655b27eeb",
   "metadata": {},
   "source": [
    "### Building a Training Loop (and a Testing Loop) in PyTorch\n",
    "\n",
    "A couple of things we need in a training loop:\n",
    "\n",
    "0. **Loop through the data**  \n",
    "   - Iterate through the dataset and perform the following steps.\n",
    "\n",
    "1. **Forward pass**  \n",
    "   - Data moves through our model's `forward()` function to make predictions on the data.  \n",
    "   - Also called **forward propagation**.\n",
    "\n",
    "2. **Calculate the loss**  \n",
    "   - Compare the predictions from the forward pass to the ground truth labels.\n",
    "\n",
    "3. **Optimizer zero grad**  \n",
    "   - Reset the optimizer’s gradients to zero to avoid accumulation from previous steps.\n",
    "\n",
    "4. **Loss backward**  \n",
    "   - Move backwards through the network to calculate the gradients of each model parameter with respect to the loss.  \n",
    "   - This process is called **backpropagation** ([Watch explanation](https://www.youtube.com/watch?v=tIeHLnjs5U8)).\n",
    "\n",
    "5. **Optimizer step**  \n",
    "   - Use the optimizer to adjust the model’s parameters to try and improve the loss.  \n",
    "   - This step performs **gradient descent** ([Watch explanation](https://youtu.be/IHZwWFHWa-w)).\n"
   ]
  },
  {
   "cell_type": "code",
   "execution_count": 14,
   "id": "70f766cf-1c02-4e88-8840-c1b6ce30ae60",
   "metadata": {},
   "outputs": [
    {
     "name": "stdout",
     "output_type": "stream",
     "text": [
      "Epoch: 0 | Loss: 0.31288138031959534 | Test loss: 0.48106518387794495\n",
      "OrderedDict({'weights': tensor([0.3406]), 'bias': tensor([0.1388])})\n",
      "Epoch: 10 | Loss: 0.1976713240146637 | Test loss: 0.3463551998138428\n",
      "OrderedDict({'weights': tensor([0.3796]), 'bias': tensor([0.2388])})\n",
      "Epoch: 20 | Loss: 0.08908725529909134 | Test loss: 0.21729660034179688\n",
      "OrderedDict({'weights': tensor([0.4184]), 'bias': tensor([0.3333])})\n",
      "Epoch: 30 | Loss: 0.053148526698350906 | Test loss: 0.14464017748832703\n",
      "OrderedDict({'weights': tensor([0.4512]), 'bias': tensor([0.3768])})\n",
      "Epoch: 40 | Loss: 0.04543796554207802 | Test loss: 0.11360953003168106\n",
      "OrderedDict({'weights': tensor([0.4748]), 'bias': tensor([0.3868])})\n",
      "Epoch: 50 | Loss: 0.04167863354086876 | Test loss: 0.09919948130846024\n",
      "OrderedDict({'weights': tensor([0.4938]), 'bias': tensor([0.3843])})\n",
      "Epoch: 60 | Loss: 0.03818932920694351 | Test loss: 0.08886633068323135\n",
      "OrderedDict({'weights': tensor([0.5116]), 'bias': tensor([0.3788])})\n",
      "Epoch: 70 | Loss: 0.03476089984178543 | Test loss: 0.0805937647819519\n",
      "OrderedDict({'weights': tensor([0.5288]), 'bias': tensor([0.3718])})\n",
      "Epoch: 80 | Loss: 0.03132382780313492 | Test loss: 0.07232122868299484\n",
      "OrderedDict({'weights': tensor([0.5459]), 'bias': tensor([0.3648])})\n",
      "Epoch: 90 | Loss: 0.02788739837706089 | Test loss: 0.06473556160926819\n",
      "OrderedDict({'weights': tensor([0.5629]), 'bias': tensor([0.3573])})\n",
      "Epoch: 100 | Loss: 0.024458957836031914 | Test loss: 0.05646304413676262\n",
      "OrderedDict({'weights': tensor([0.5800]), 'bias': tensor([0.3503])})\n",
      "Epoch: 110 | Loss: 0.021020207554101944 | Test loss: 0.04819049686193466\n",
      "OrderedDict({'weights': tensor([0.5972]), 'bias': tensor([0.3433])})\n",
      "Epoch: 120 | Loss: 0.01758546568453312 | Test loss: 0.04060482233762741\n",
      "OrderedDict({'weights': tensor([0.6141]), 'bias': tensor([0.3358])})\n",
      "Epoch: 130 | Loss: 0.014155393466353416 | Test loss: 0.03233227878808975\n",
      "OrderedDict({'weights': tensor([0.6313]), 'bias': tensor([0.3288])})\n",
      "Epoch: 140 | Loss: 0.010716589167714119 | Test loss: 0.024059748277068138\n",
      "OrderedDict({'weights': tensor([0.6485]), 'bias': tensor([0.3218])})\n",
      "Epoch: 150 | Loss: 0.0072835334576666355 | Test loss: 0.016474086791276932\n",
      "OrderedDict({'weights': tensor([0.6654]), 'bias': tensor([0.3143])})\n",
      "Epoch: 160 | Loss: 0.0038517764769494534 | Test loss: 0.008201557211577892\n",
      "OrderedDict({'weights': tensor([0.6826]), 'bias': tensor([0.3073])})\n",
      "Epoch: 170 | Loss: 0.008932482451200485 | Test loss: 0.005023092031478882\n",
      "OrderedDict({'weights': tensor([0.6951]), 'bias': tensor([0.2993])})\n",
      "Epoch: 180 | Loss: 0.008932482451200485 | Test loss: 0.005023092031478882\n",
      "OrderedDict({'weights': tensor([0.6951]), 'bias': tensor([0.2993])})\n",
      "Epoch: 190 | Loss: 0.008932482451200485 | Test loss: 0.005023092031478882\n",
      "OrderedDict({'weights': tensor([0.6951]), 'bias': tensor([0.2993])})\n"
     ]
    }
   ],
   "source": [
    "torch.manual_seed(42)\n",
    "\n",
    "# Set the number of epochs (how many times the model will pass over the training data)\n",
    "epochs = 200\n",
    "\n",
    "\n",
    "# Create empty loss lists to track values\n",
    "train_loss_values = []\n",
    "test_loss_values = []\n",
    "epoch_count = []\n",
    "\n",
    "\n",
    "### Training Loop\n",
    "\n",
    "for epoch in range(epochs):\n",
    "\n",
    "    # train the model\n",
    "    model_0.train()\n",
    "\n",
    "    # step 01 -> Forward pass\n",
    "    y_pred = model_0(X_train)\n",
    "    # print(y_pred)\n",
    "\n",
    "    # step 02 -> calculate the loss\n",
    "    loss = loss_fn(y_pred, y_train)\n",
    "\n",
    "    # step 03 -> optimize zero grad\n",
    "    optimizer.zero_grad()\n",
    "\n",
    "    # step 04 -> Loss backpropagation\n",
    "    loss.backward()\n",
    "\n",
    "    # step 05 -> Optimizer step (perform gradient descent)\n",
    "    optimizer.step()\n",
    "\n",
    "    #### Testing\n",
    "    model_0.eval()\n",
    "\n",
    "    with torch.inference_mode():\n",
    "        # 1. Forward pass on test data\n",
    "        test_pred = model_0(X_test)\n",
    "\n",
    "        # 2. Caculate loss on test data\n",
    "        test_loss = loss_fn(test_pred, y_test)\n",
    "\n",
    "    # Print out what's happenin'\n",
    "    if epoch % 10 == 0:\n",
    "         epoch_count.append(epoch)\n",
    "         train_loss_values.append(loss.detach().numpy())\n",
    "         test_loss_values.append(test_loss.detach().numpy())\n",
    "         print(f\"Epoch: {epoch} | Loss: {loss} | Test loss: {test_loss}\")\n",
    "         # Print out model state_dict()\n",
    "         print(model_0.state_dict())\n",
    "\n",
    "        \n",
    "\n",
    "    \n",
    "     \n",
    "\n",
    "\n"
   ]
  },
  {
   "cell_type": "code",
   "execution_count": 15,
   "id": "c2f09ca3-6fc0-444d-bb37-f0df0b59d6a1",
   "metadata": {},
   "outputs": [
    {
     "data": {
      "image/png": "[encoded data removed]",
      "text/plain": [
       "<Figure size 640x480 with 1 Axes>"
      ]
     },
     "metadata": {},
     "output_type": "display_data"
    }
   ],
   "source": [
    "# Plot the loss curves\n",
    "plt.plot(epoch_count, train_loss_values, label=\"Train loss\")\n",
    "plt.plot(epoch_count, test_loss_values, label=\"Test loss\")\n",
    "plt.title(\"Training and test loss curves\")\n",
    "plt.ylabel(\"Loss\")\n",
    "plt.xlabel(\"Epochs\")\n",
    "plt.legend();"
   ]
  },
  {
   "cell_type": "code",
   "execution_count": 16,
   "id": "37be9c5a-29d1-4020-8ef1-8281cc6a3306",
   "metadata": {},
   "outputs": [
    {
     "data": {
      "text/plain": [
       "OrderedDict([('weights', tensor([0.6990])), ('bias', tensor([0.3093]))])"
      ]
     },
     "execution_count": 16,
     "metadata": {},
     "output_type": "execute_result"
    }
   ],
   "source": [
    "model_0.state_dict()"
   ]
  },
  {
   "cell_type": "code",
   "execution_count": 17,
   "id": "c28015b5-71e8-4c62-939f-8506ec0c72c0",
   "metadata": {},
   "outputs": [],
   "source": [
    "with torch.inference_mode():\n",
    "  y_preds_new = model_0(X_test)"
   ]
  },
  {
   "cell_type": "code",
   "execution_count": 18,
   "id": "1f6d0275-d4d1-4b96-acc0-83fbbdce3def",
   "metadata": {},
   "outputs": [
    {
     "data": {
      "image/png": "[encoded data removed]",
      "text/plain": [
       "<Figure size 640x480 with 1 Axes>"
      ]
     },
     "metadata": {},
     "output_type": "display_data"
    }
   ],
   "source": [
    "plot_train_test_pred(pred=y_preds_new)"
   ]
  },
  {
   "cell_type": "markdown",
   "id": "8efac4dc-f0c1-4d65-aead-84abe764d5aa",
   "metadata": {},
   "source": [
    "### Saving a Model in PyTorch\n",
    "\n",
    "There are three main methods you should know about for saving and loading models in PyTorch:\n",
    "\n",
    "1. **`torch.save()`**  \n",
    "   - Allows you to save a PyTorch object in Python's pickle format.\n",
    "\n",
    "2. **`torch.load()`**  \n",
    "   - Allows you to load a saved PyTorch object.\n",
    "\n",
    "3. **`torch.nn.Module.load_state_dict()`**  \n",
    "   - Enables you to load a model's saved state dictionary.\n",
    "\n",
    "For more details, check out the [PyTorch Save & Load Code Tutorial](https://pytorch.org/tutorials/beginner/saving_loading_models.html#saving-loading-model-for-inference).\n",
    "\n"
   ]
  },
  {
   "cell_type": "code",
   "execution_count": 20,
   "id": "3965227d-7247-42df-b79d-156f5f66f8f8",
   "metadata": {},
   "outputs": [
    {
     "name": "stdout",
     "output_type": "stream",
     "text": [
      "Saving the model state dict on: models/01_pytorch_workflow_SimpleLRM.pth\n"
     ]
    }
   ],
   "source": [
    "# Saving the model state dict\n",
    "\n",
    "# 0. First we want to make a directory & file path where we will save the model state dict\n",
    "\n",
    "from pathlib import Path\n",
    "\n",
    "# 1. Create Model Path directory\n",
    "MODEL_PATH = Path('models')\n",
    "MODEL_PATH.mkdir(parents=True, exist_ok=True) # if the path exist it will not give any error\n",
    "\n",
    "# 2. Create Model Save Path directory\n",
    "MODEL_NAME = \"01_pytorch_workflow_SimpleLRM.pth\"\n",
    "MODEL_SAVE_PATH = MODEL_PATH / MODEL_NAME\n",
    "\n",
    "# 3. Save the Model state dict\n",
    "print(f\"Saving the model state dict on: {MODEL_SAVE_PATH}\")\n",
    "torch.save(obj=model_0.state_dict(), f=MODEL_SAVE_PATH)\n"
   ]
  },
  {
   "cell_type": "code",
   "execution_count": 23,
   "id": "db8d6384-32a1-4a95-bb8c-bda87c0fb0c4",
   "metadata": {},
   "outputs": [
    {
     "name": "stderr",
     "output_type": "stream",
     "text": [
      "/tmp/ipykernel_175157/3482458886.py:7: FutureWarning: You are using `torch.load` with `weights_only=False` (the current default value), which uses the default pickle module implicitly. It is possible to construct malicious pickle data which will execute arbitrary code during unpickling (See https://github.com/pytorch/pytorch/blob/main/SECURITY.md#untrusted-models for more details). In a future release, the default value for `weights_only` will be flipped to `True`. This limits the functions that could be executed during unpickling. Arbitrary objects will no longer be allowed to be loaded via this mode unless they are explicitly allowlisted by the user via `torch.serialization.add_safe_globals`. We recommend you start setting `weights_only=True` for any use case where you don't have full control of the loaded file. Please open an issue on GitHub for any issues related to this experimental feature.\n",
      "  load_model_0.load_state_dict(torch.load(f=MODEL_SAVE_PATH))\n"
     ]
    },
    {
     "data": {
      "text/plain": [
       "<All keys matched successfully>"
      ]
     },
     "execution_count": 23,
     "metadata": {},
     "output_type": "execute_result"
    }
   ],
   "source": [
    "### Load the Model\n",
    "\n",
    "# 1. First create an instance of the Model Class\n",
    "load_model_0 = LinearRegressionModel()\n",
    "\n",
    "# 2. Load the sate of dict of our saving model (it will updated the parameters value with our saved models parameter)\n",
    "load_model_0.load_state_dict(torch.load(f=MODEL_SAVE_PATH))\n"
   ]
  },
  {
   "cell_type": "code",
   "execution_count": 24,
   "id": "0f15fbbb-6433-4876-8af6-34c8f1319f1d",
   "metadata": {},
   "outputs": [
    {
     "data": {
      "text/plain": [
       "OrderedDict([('weights', tensor([0.6990])), ('bias', tensor([0.3093]))])"
      ]
     },
     "execution_count": 24,
     "metadata": {},
     "output_type": "execute_result"
    }
   ],
   "source": [
    "load_model_0.state_dict()"
   ]
  },
  {
   "cell_type": "code",
   "execution_count": 25,
   "id": "c7e3b891-b716-474e-87c5-0510466cb2cd",
   "metadata": {},
   "outputs": [],
   "source": [
    "# Now some testing the data with our loaded model\n",
    "\n",
    "# 1. Always make the model in  eval mode\n",
    "load_model_0.eval()\n",
    "\n",
    "# 2. Now inference mode context manager to make predictions\n",
    "with torch.inference_mode():\n",
    "    load_pred = load_model_0(X_test)\n",
    "\n"
   ]
  },
  {
   "cell_type": "code",
   "execution_count": 26,
   "id": "fd9b16e3-71c4-4387-98e4-f44ff16462d1",
   "metadata": {},
   "outputs": [
    {
     "data": {
      "text/plain": [
       "tensor([[True],\n",
       "        [True],\n",
       "        [True],\n",
       "        [True],\n",
       "        [True],\n",
       "        [True],\n",
       "        [True],\n",
       "        [True],\n",
       "        [True],\n",
       "        [True]])"
      ]
     },
     "execution_count": 26,
     "metadata": {},
     "output_type": "execute_result"
    }
   ],
   "source": [
    "# Compare previous model predictions with loaded model predictions (these should be the same)\n",
    "y_preds_new == load_pred"
   ]
  },
  {
   "cell_type": "markdown",
   "id": "5da60b4f-e5e1-42f2-bb77-5be73d13131c",
   "metadata": {},
   "source": [
    "## Now make it all together"
   ]
  },
  {
   "cell_type": "code",
   "execution_count": 1,
   "id": "52e14be3-dfd3-42a4-9118-72244b9af86c",
   "metadata": {},
   "outputs": [
    {
     "data": {
      "text/plain": [
       "'2.5.1'"
      ]
     },
     "execution_count": 1,
     "metadata": {},
     "output_type": "execute_result"
    }
   ],
   "source": [
    "# Import Pytorch and Matplotlib\n",
    "import torch\n",
    "from torch import nn\n",
    "import matplotlib.pyplot as plt\n",
    "\n",
    "# Check torch version\n",
    "torch.__version__"
   ]
  },
  {
   "cell_type": "markdown",
   "id": "124a44da-1ae8-4ca9-83f9-1b957edf403f",
   "metadata": {},
   "source": [
    "### Now write device agnostic code\n",
    "- This means if we've got access to a GPU, our code will use it (for potentially faster computing).\n",
    "- If no GPU is available, the code will default to using CPU."
   ]
  },
  {
   "cell_type": "code",
   "execution_count": 2,
   "id": "6585215b-18d6-4dc8-9f8d-f5fa2fcf6b7b",
   "metadata": {},
   "outputs": [
    {
     "name": "stdout",
     "output_type": "stream",
     "text": [
      "Using device: cuda\n"
     ]
    }
   ],
   "source": [
    "# Setup device agnostic code\n",
    "device = \"cuda\" if torch.cuda.is_available() else \"cpu\"\n",
    "print(f\"Using device: {device}\")\n"
   ]
  },
  {
   "cell_type": "markdown",
   "id": "c29013a3-7326-4c0d-b45a-6b81d86bff09",
   "metadata": {},
   "source": [
    "## 1. Data"
   ]
  },
  {
   "cell_type": "code",
   "execution_count": 3,
   "id": "e647d60e-3de9-4d78-a9df-ae13677c3927",
   "metadata": {},
   "outputs": [
    {
     "data": {
      "text/plain": [
       "(tensor([[0.0000],\n",
       "         [0.0200],\n",
       "         [0.0400],\n",
       "         [0.0600],\n",
       "         [0.0800],\n",
       "         [0.1000],\n",
       "         [0.1200],\n",
       "         [0.1400],\n",
       "         [0.1600],\n",
       "         [0.1800]]),\n",
       " tensor([[0.3000],\n",
       "         [0.3140],\n",
       "         [0.3280],\n",
       "         [0.3420],\n",
       "         [0.3560],\n",
       "         [0.3700],\n",
       "         [0.3840],\n",
       "         [0.3980],\n",
       "         [0.4120],\n",
       "         [0.4260]]))"
      ]
     },
     "execution_count": 3,
     "metadata": {},
     "output_type": "execute_result"
    }
   ],
   "source": [
    "# Create some data using simple linear regression formula : y = weight * X + bias (same as y=mX+C)\n",
    "\n",
    "# First fix the weight & bias\n",
    "weight = 0.7\n",
    "bias =  0.3\n",
    "\n",
    "# create the ranges\n",
    "start = 0\n",
    "end = 1\n",
    "step = 0.02\n",
    "\n",
    "X = torch.arange(start , end, step).unsqueeze(dim=1) # unsqueeze the data in axis 1 so that it did not give the error in computing\n",
    "y = weight * X + bias\n",
    "\n",
    "# print first 10 values\n",
    "X[:10], y[:10]"
   ]
  },
  {
   "cell_type": "code",
   "execution_count": 4,
   "id": "0bf9dc0f-b2f2-4a07-bc1e-451530840314",
   "metadata": {},
   "outputs": [
    {
     "data": {
      "text/plain": [
       "(40, 10, 40, 10)"
      ]
     },
     "execution_count": 4,
     "metadata": {},
     "output_type": "execute_result"
    }
   ],
   "source": [
    "# We have the data. Now we hve to split data into train and test. we split them  in 80-20 format (train=80%; test=20%)\n",
    "\n",
    "# split\n",
    "train_split = int(0.8 * len(X))\n",
    "X_train, y_train = X[:train_split], y[:train_split]\n",
    "X_test, y_test = X[train_split:], y[train_split:]\n",
    "\n",
    "# length of the train and test data\n",
    "len(X_train), len(X_test), len(y_train), len(y_test)\n"
   ]
  },
  {
   "cell_type": "code",
   "execution_count": 5,
   "id": "458017b5-24df-481d-8d94-79ef2f7dd840",
   "metadata": {},
   "outputs": [],
   "source": [
    "# Now we want to visualize the train and test data compare the predictions\n",
    "\n",
    "def plot_train_test_pred(train_data=X_train,\n",
    "                         train_labels=y_train,\n",
    "                         test_data=X_test,\n",
    "                         test_labels=y_test,\n",
    "                         pred=None):\n",
    "    \"\"\"\n",
    "    Plots training data, test data and compares predictions.\n",
    "    \"\"\"\n",
    "\n",
    "    # plot the train data\n",
    "    plt.scatter(train_data, train_labels, c='b', s=4, label=\"Training Data\")\n",
    "\n",
    "    #plot the test data\n",
    "    plt.scatter(test_data, test_labels, c='g', s=4, label='Test Data')\n",
    "\n",
    "\n",
    "    if pred is not None:\n",
    "        plt.scatter(test_data, pred, c='r', s=4, label='Predictions')\n",
    "\n",
    "    # Show the legend\n",
    "    plt.legend(prop={\"size\": 14})"
   ]
  },
  {
   "cell_type": "code",
   "execution_count": 6,
   "id": "70511d72-9281-46ee-bced-b9200354be0d",
   "metadata": {},
   "outputs": [
    {
     "data": {
      "image/png": "[encoded data removed]",
      "text/plain": [
       "<Figure size 640x480 with 1 Axes>"
      ]
     },
     "metadata": {},
     "output_type": "display_data"
    }
   ],
   "source": [
    "plot_train_test_pred()"
   ]
  },
  {
   "cell_type": "markdown",
   "id": "f81d62ee-5f63-4e7a-9a3a-f124127e39d5",
   "metadata": {},
   "source": [
    "## 2. Building a PyTorch Linear Model"
   ]
  },
  {
   "cell_type": "code",
   "execution_count": 7,
   "id": "24a6c584-e938-4d19-8194-dd497c6f2f79",
   "metadata": {},
   "outputs": [
    {
     "data": {
      "text/plain": [
       "(LinearRegressionModelV2(\n",
       "   (linear_layer): Linear(in_features=1, out_features=1, bias=True)\n",
       " ),\n",
       " OrderedDict([('linear_layer.weight', tensor([[0.7645]])),\n",
       "              ('linear_layer.bias', tensor([0.8300]))]),\n",
       " Parameter containing:\n",
       " tensor([[0.7645]], requires_grad=True))"
      ]
     },
     "execution_count": 7,
     "metadata": {},
     "output_type": "execute_result"
    }
   ],
   "source": [
    "# now we create the Linear Regression Model by subclassing nn.Module module\n",
    "\n",
    "class LinearRegressionModelV2(nn.Module):\n",
    "    def __init__(self):\n",
    "        super().__init__()\n",
    "        # using nn.Linear() to create the model parameters\n",
    "        self.linear_layer = nn.Linear(in_features=1, out_features=1) # as our feature 1 and ouotput is also 1 \n",
    "\n",
    "    # Define the forward computation (input data x flows through nn.Linear())\n",
    "    def forward(self, x: torch.Tensor) -> torch.Tensor:\n",
    "        return self.linear_layer(x)\n",
    "\n",
    "\n",
    "# Create manual seed \n",
    "torch.manual_seed(42)\n",
    "\n",
    "# Create model instance\n",
    "model_1 = LinearRegressionModelV2()\n",
    "\n",
    "model_1, model_1.state_dict(), next(model_1.parameters())"
   ]
  },
  {
   "cell_type": "code",
   "execution_count": 8,
   "id": "b9ff09b7-a40c-496f-9cc9-942505b403a3",
   "metadata": {},
   "outputs": [
    {
     "data": {
      "text/plain": [
       "device(type='cpu')"
      ]
     },
     "execution_count": 8,
     "metadata": {},
     "output_type": "execute_result"
    }
   ],
   "source": [
    "# Check the model device\n",
    "next(model_1.parameters()).device"
   ]
  },
  {
   "cell_type": "code",
   "execution_count": 9,
   "id": "de7249ce-f2c0-4d2c-abd3-7cf5e2c76180",
   "metadata": {},
   "outputs": [
    {
     "data": {
      "text/plain": [
       "device(type='cuda', index=0)"
      ]
     },
     "execution_count": 9,
     "metadata": {},
     "output_type": "execute_result"
    }
   ],
   "source": [
    "# Set the model to use the target device\n",
    "model_1.to(device)\n",
    "next(model_1.parameters()).device"
   ]
  },
  {
   "cell_type": "code",
   "execution_count": 10,
   "id": "e1a9b3ba-4d3a-4cf5-b6ac-ac5210128b7d",
   "metadata": {},
   "outputs": [
    {
     "name": "stdout",
     "output_type": "stream",
     "text": [
      "Sun Jan 26 17:00:24 2025       \n",
      "+---------------------------------------------------------------------------------------+\n",
      "| NVIDIA-SMI 535.183.01             Driver Version: 535.183.01   CUDA Version: 12.2     |\n",
      "|-----------------------------------------+----------------------+----------------------+\n",
      "| GPU  Name                 Persistence-M | Bus-Id        Disp.A | Volatile Uncorr. ECC |\n",
      "| Fan  Temp   Perf          Pwr:Usage/Cap |         Memory-Usage | GPU-Util  Compute M. |\n",
      "|                                         |                      |               MIG M. |\n",
      "|=========================================+======================+======================|\n",
      "|   0  NVIDIA GeForce GTX 1050 Ti     Off | 00000000:01:00.0  On |                  N/A |\n",
      "| N/A   39C    P0              N/A /  16W |     95MiB /  4096MiB |      0%      Default |\n",
      "|                                         |                      |                  N/A |\n",
      "+-----------------------------------------+----------------------+----------------------+\n",
      "                                                                                         \n",
      "+---------------------------------------------------------------------------------------+\n",
      "| Processes:                                                                            |\n",
      "|  GPU   GI   CI        PID   Type   Process name                            GPU Memory |\n",
      "|        ID   ID                                                             Usage      |\n",
      "|=======================================================================================|\n",
      "|    0   N/A  N/A      1360      G   /usr/lib/xorg/Xorg                           45MiB |\n",
      "|    0   N/A  N/A    191750      C   ...loy/anaconda3/envs/torch/bin/python       46MiB |\n",
      "+---------------------------------------------------------------------------------------+\n"
     ]
    }
   ],
   "source": [
    "!nvidia-smi"
   ]
  },
  {
   "cell_type": "code",
   "execution_count": 11,
   "id": "6c852961-d57a-44d7-b8f2-dd63c4631a42",
   "metadata": {},
   "outputs": [
    {
     "data": {
      "text/plain": [
       "OrderedDict([('linear_layer.weight', tensor([[0.7645]], device='cuda:0')),\n",
       "             ('linear_layer.bias', tensor([0.8300], device='cuda:0'))])"
      ]
     },
     "execution_count": 11,
     "metadata": {},
     "output_type": "execute_result"
    }
   ],
   "source": [
    "model_1.state_dict()"
   ]
  },
  {
   "cell_type": "markdown",
   "id": "8dabd43d-5e7b-453d-b19d-9626d78d207b",
   "metadata": {},
   "source": [
    "## 3. Training\n",
    "For the training we need the following steps\n",
    "- Loss Function\n",
    "- Optimizer\n",
    "- Training Loop\n",
    "- Testing Loop"
   ]
  },
  {
   "cell_type": "code",
   "execution_count": 12,
   "id": "d95f65ec-dca8-4c02-adf4-e28e909b03d2",
   "metadata": {},
   "outputs": [],
   "source": [
    "# Create loss function\n",
    "loss_fn = nn.L1Loss()\n",
    "\n",
    "# Create Optimizer\n",
    "optimizer = torch.optim.SGD(params=model_1.parameters(), lr=0.01)\n"
   ]
  },
  {
   "cell_type": "code",
   "execution_count": 14,
   "id": "fbb026ab-d7f2-406c-96f3-06b907b5cba0",
   "metadata": {},
   "outputs": [
    {
     "name": "stdout",
     "output_type": "stream",
     "text": [
      "Epoch: 0 | Train Loss: 0.5436570048332214 | Test loss: 0.560505211353302\n",
      "Epoch: 10 | Train Loss: 0.42844706773757935 | Test loss: 0.42579540610313416\n",
      "Epoch: 20 | Train Loss: 0.31323719024658203 | Test loss: 0.2910855710506439\n",
      "Epoch: 30 | Train Loss: 0.1980273425579071 | Test loss: 0.15637575089931488\n",
      "Epoch: 40 | Train Loss: 0.0828174576163292 | Test loss: 0.021665919572114944\n",
      "Epoch: 50 | Train Loss: 0.023356428369879723 | Test loss: 0.04883447289466858\n",
      "Epoch: 60 | Train Loss: 0.019609849900007248 | Test loss: 0.04538799077272415\n",
      "Epoch: 70 | Train Loss: 0.01618141122162342 | Test loss: 0.03711546212434769\n",
      "Epoch: 80 | Train Loss: 0.012742983177304268 | Test loss: 0.028842901811003685\n",
      "Epoch: 90 | Train Loss: 0.00930792186409235 | Test loss: 0.02125724032521248\n",
      "Epoch: 100 | Train Loss: 0.005878167692571878 | Test loss: 0.012984705157577991\n",
      "Epoch: 110 | Train Loss: 0.0024393596686422825 | Test loss: 0.004712170455604792\n",
      "Epoch: 120 | Train Loss: 0.010256479494273663 | Test loss: 0.00033081771107390523\n",
      "Epoch: 130 | Train Loss: 0.010256479494273663 | Test loss: 0.00033081771107390523\n",
      "Epoch: 140 | Train Loss: 0.010256479494273663 | Test loss: 0.00033081771107390523\n",
      "Epoch: 150 | Train Loss: 0.010256479494273663 | Test loss: 0.00033081771107390523\n",
      "Epoch: 160 | Train Loss: 0.010256479494273663 | Test loss: 0.00033081771107390523\n",
      "Epoch: 170 | Train Loss: 0.010256479494273663 | Test loss: 0.00033081771107390523\n",
      "Epoch: 180 | Train Loss: 0.010256479494273663 | Test loss: 0.00033081771107390523\n",
      "Epoch: 190 | Train Loss: 0.010256479494273663 | Test loss: 0.00033081771107390523\n"
     ]
    }
   ],
   "source": [
    "# Now write the Training loop\n",
    "\n",
    "# setup the seed\n",
    "torch.manual_seed(42)\n",
    "\n",
    "# setup the epochs\n",
    "epochs = 200\n",
    "\n",
    "# put the data on device (device agnostic code for data)\n",
    "X_train = X_train.to(device)\n",
    "y_train = y_train.to(device)\n",
    "X_test = X_test.to(device)\n",
    "y_test = y_test.to(device)\n",
    "\n",
    "# Create empty loss lists to track values\n",
    "train_loss_values = []\n",
    "test_loss_values = []\n",
    "epoch_count = []\n",
    "\n",
    "for epoch in range(epochs):\n",
    "\n",
    "    # start with train()\n",
    "    model_1.train()\n",
    "\n",
    "    # 1. Forward pass\n",
    "    y_pred = model_1(X_train)\n",
    "\n",
    "    # 2. Calculate the loss\n",
    "    train_loss = loss_fn(y_pred, y_train)\n",
    "\n",
    "    # 3. Optimizer zero grad\n",
    "    optimizer.zero_grad()\n",
    "\n",
    "    # 4. Perform Backpropagation (always on loss)\n",
    "    train_loss.backward()\n",
    "\n",
    "    # 5. Optimizer step -> gradient descent\n",
    "    optimizer.step()\n",
    "\n",
    "    ### Testing Loop\n",
    "\n",
    "    # always start with eval()\n",
    "    model_1.eval()\n",
    "\n",
    "    with torch.inference_mode():\n",
    "        \n",
    "        # 1. Forward pass\n",
    "        test_pred = model_1(X_test)\n",
    "\n",
    "        # 2. Test Loss\n",
    "        test_loss = loss_fn(test_pred, y_test)\n",
    "    \n",
    "    # print out the result\n",
    "    if epoch % 10 == 0:\n",
    "        epoch_count.append(epoch)\n",
    "        train_loss_values.append(train_loss.cpu().detach().numpy())\n",
    "        test_loss_values.append(test_loss.cpu().detach().numpy())\n",
    "        print(f\"Epoch: {epoch} | Train Loss: {train_loss} | Test loss: {test_loss}\")"
   ]
  },
  {
   "cell_type": "code",
   "execution_count": 16,
   "id": "a0f82e68-9d0e-4337-9aa6-72b994a66279",
   "metadata": {},
   "outputs": [
    {
     "data": {
      "image/png": "[encoded data removed]",
      "text/plain": [
       "<Figure size 640x480 with 1 Axes>"
      ]
     },
     "metadata": {},
     "output_type": "display_data"
    }
   ],
   "source": [
    "# Plot the loss curves\n",
    "plt.plot(epoch_count, train_loss_values, label=\"Train loss\")\n",
    "plt.plot(epoch_count, test_loss_values, label=\"Test loss\")\n",
    "plt.title(\"Training and test loss curves\")\n",
    "plt.ylabel(\"Loss\")\n",
    "plt.xlabel(\"Epochs\")\n",
    "plt.legend();"
   ]
  },
  {
   "cell_type": "code",
   "execution_count": 18,
   "id": "b80cddb5-20fd-4719-aad4-021bec2d4765",
   "metadata": {},
   "outputs": [
    {
     "data": {
      "text/plain": [
       "OrderedDict([('linear_layer.weight', tensor([[0.6929]], device='cuda:0')),\n",
       "             ('linear_layer.bias', tensor([0.2925], device='cuda:0'))])"
      ]
     },
     "execution_count": 18,
     "metadata": {},
     "output_type": "execute_result"
    }
   ],
   "source": [
    "model_1.state_dict()"
   ]
  },
  {
   "cell_type": "code",
   "execution_count": 19,
   "id": "59ce6339-3739-4b2b-a5af-9703ef9c61bd",
   "metadata": {},
   "outputs": [
    {
     "data": {
      "text/plain": [
       "(0.7, 0.3)"
      ]
     },
     "execution_count": 19,
     "metadata": {},
     "output_type": "execute_result"
    }
   ],
   "source": [
    "weight, bias"
   ]
  },
  {
   "cell_type": "markdown",
   "id": "a1d673ad-698c-41a9-9c28-53c178530364",
   "metadata": {},
   "source": [
    "### Making and Evaluating Predictions"
   ]
  },
  {
   "cell_type": "code",
   "execution_count": 20,
   "id": "a0e692bc-e41c-445f-9e96-a42b5ac8e2e7",
   "metadata": {},
   "outputs": [
    {
     "data": {
      "text/plain": [
       "tensor([[0.8468],\n",
       "        [0.8607],\n",
       "        [0.8746],\n",
       "        [0.8884],\n",
       "        [0.9023],\n",
       "        [0.9161],\n",
       "        [0.9300],\n",
       "        [0.9438],\n",
       "        [0.9577],\n",
       "        [0.9716]], device='cuda:0')"
      ]
     },
     "execution_count": 20,
     "metadata": {},
     "output_type": "execute_result"
    }
   ],
   "source": [
    "# first eval mode\n",
    "model_1.eval()\n",
    "\n",
    "with torch.inference_mode():\n",
    "    y_pred_new = model_1(X_test)\n",
    "y_pred_new"
   ]
  },
  {
   "cell_type": "code",
   "execution_count": 21,
   "id": "a9c6aa40-5ec5-4247-a2a1-4d021da50d8f",
   "metadata": {},
   "outputs": [
    {
     "data": {
      "image/png": "[encoded data removed]",
      "text/plain": [
       "<Figure size 640x480 with 1 Axes>"
      ]
     },
     "metadata": {},
     "output_type": "display_data"
    }
   ],
   "source": [
    "# Visualize the prediction\n",
    "plot_train_test_pred(pred=y_pred_new.cpu())"
   ]
  },
  {
   "cell_type": "markdown",
   "id": "ff06cab6-8711-46d4-b0e8-2c51a4070573",
   "metadata": {},
   "source": [
    "## Saving and Loading the Model\n",
    "- Save the parameters\n",
    "- Load the model"
   ]
  },
  {
   "cell_type": "code",
   "execution_count": 22,
   "id": "109141a2-0703-46c8-b909-7c1ec5963990",
   "metadata": {},
   "outputs": [
    {
     "name": "stdout",
     "output_type": "stream",
     "text": [
      "Saving model to: models/01_pytorch_workflow_SimpleLRMV2.pth\n"
     ]
    }
   ],
   "source": [
    "# Create directory and file for saving the model\n",
    "\n",
    "from pathlib import Path\n",
    "\n",
    "# Create Model Directory\n",
    "MODEL_PATH = Path(\"models\")\n",
    "MODEL_PATH.mkdir(parents=True, exist_ok=True)\n",
    "\n",
    "# Create Model Save Path\n",
    "MODEL_NAME = \"01_pytorch_workflow_SimpleLRMV2.pth\"\n",
    "MODEL_SAVE_PATH = MODEL_PATH / MODEL_NAME\n",
    "\n",
    "# Save the model state dict\n",
    "print(f\"Saving model to: {MODEL_SAVE_PATH}\")\n",
    "torch.save(obj=model_1.state_dict(), f=MODEL_SAVE_PATH)\n"
   ]
  },
  {
   "cell_type": "code",
   "execution_count": 23,
   "id": "c5cb324c-fa56-4364-89a3-0d63bc63d235",
   "metadata": {},
   "outputs": [
    {
     "name": "stderr",
     "output_type": "stream",
     "text": [
      "/tmp/ipykernel_191750/2304840694.py:7: FutureWarning: You are using `torch.load` with `weights_only=False` (the current default value), which uses the default pickle module implicitly. It is possible to construct malicious pickle data which will execute arbitrary code during unpickling (See https://github.com/pytorch/pytorch/blob/main/SECURITY.md#untrusted-models for more details). In a future release, the default value for `weights_only` will be flipped to `True`. This limits the functions that could be executed during unpickling. Arbitrary objects will no longer be allowed to be loaded via this mode unless they are explicitly allowlisted by the user via `torch.serialization.add_safe_globals`. We recommend you start setting `weights_only=True` for any use case where you don't have full control of the loaded file. Please open an issue on GitHub for any issues related to this experimental feature.\n",
      "  loaded_model_1.load_state_dict(torch.load(f=MODEL_SAVE_PATH))\n"
     ]
    },
    {
     "data": {
      "text/plain": [
       "LinearRegressionModelV2(\n",
       "  (linear_layer): Linear(in_features=1, out_features=1, bias=True)\n",
       ")"
      ]
     },
     "execution_count": 23,
     "metadata": {},
     "output_type": "execute_result"
    }
   ],
   "source": [
    "### Load the Model\n",
    "\n",
    "# start with creating model instance\n",
    "loaded_model_1 = LinearRegressionModelV2()\n",
    "\n",
    "# load the saved model state dict\n",
    "loaded_model_1.load_state_dict(torch.load(f=MODEL_SAVE_PATH))\n",
    "\n",
    "# put the loaded model to the device\n",
    "loaded_model_1.to(device)"
   ]
  },
  {
   "cell_type": "code",
   "execution_count": 24,
   "id": "29b652a6-1c13-43aa-8081-b38c2f83b887",
   "metadata": {},
   "outputs": [
    {
     "data": {
      "text/plain": [
       "device(type='cuda', index=0)"
      ]
     },
     "execution_count": 24,
     "metadata": {},
     "output_type": "execute_result"
    }
   ],
   "source": [
    "# checking the loaded model device\n",
    "next(loaded_model_1.parameters()).device"
   ]
  },
  {
   "cell_type": "code",
   "execution_count": 25,
   "id": "1a4b8fe0-df26-4c4d-9204-721030444329",
   "metadata": {},
   "outputs": [
    {
     "data": {
      "text/plain": [
       "OrderedDict([('linear_layer.weight', tensor([[0.6929]], device='cuda:0')),\n",
       "             ('linear_layer.bias', tensor([0.2925], device='cuda:0'))])"
      ]
     },
     "execution_count": 25,
     "metadata": {},
     "output_type": "execute_result"
    }
   ],
   "source": [
    "# loaded models state dict\n",
    "loaded_model_1.state_dict()"
   ]
  },
  {
   "cell_type": "code",
   "execution_count": 26,
   "id": "bc26cabb-f523-4874-a4ce-1810e0b2bae1",
   "metadata": {},
   "outputs": [
    {
     "data": {
      "text/plain": [
       "tensor([[True],\n",
       "        [True],\n",
       "        [True],\n",
       "        [True],\n",
       "        [True],\n",
       "        [True],\n",
       "        [True],\n",
       "        [True],\n",
       "        [True],\n",
       "        [True]], device='cuda:0')"
      ]
     },
     "execution_count": 26,
     "metadata": {},
     "output_type": "execute_result"
    }
   ],
   "source": [
    "# Evaluated Model\n",
    "loaded_model_1.eval()\n",
    "with torch.inference_mode():\n",
    "    loaded_pred = loaded_model_1(X_test)\n",
    "y_pred_new == loaded_pred"
   ]
  }
 ],
 "metadata": {
  "kernelspec": {
   "display_name": "Python 3 (ipykernel)",
   "language": "python",
   "name": "python3"
  },
  "language_info": {
   "codemirror_mode": {
    "name": "ipython",
    "version": 3
   },
   "file_extension": ".py",
   "mimetype": "text/x-python",
   "name": "python",
   "nbconvert_exporter": "python",
   "pygments_lexer": "ipython3",
   "version": "3.12.8"
  }
 },
 "nbformat": 4,
 "nbformat_minor": 5
}
