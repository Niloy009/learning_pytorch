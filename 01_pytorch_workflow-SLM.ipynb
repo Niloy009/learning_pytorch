{
 "cells": [
  {
   "cell_type": "code",
   "execution_count": 1,
   "id": "52e14be3-dfd3-42a4-9118-72244b9af86c",
   "metadata": {},
   "outputs": [
    {
     "data": {
      "text/plain": [
       "'2.5.1'"
      ]
     },
     "execution_count": 1,
     "metadata": {},
     "output_type": "execute_result"
    }
   ],
   "source": [
    "# Import Pytorch and Matplotlib\n",
    "import torch\n",
    "from torch import nn\n",
    "import matplotlib.pyplot as plt\n",
    "\n",
    "# Check torch version\n",
    "torch.__version__"
   ]
  },
  {
   "cell_type": "markdown",
   "id": "124a44da-1ae8-4ca9-83f9-1b957edf403f",
   "metadata": {},
   "source": [
    "### Now write device agnostic code\n",
    "- This means if we've got access to a GPU, our code will use it (for potentially faster computing).\n",
    "- If no GPU is available, the code will default to using CPU."
   ]
  },
  {
   "cell_type": "code",
   "execution_count": 2,
   "id": "6585215b-18d6-4dc8-9f8d-f5fa2fcf6b7b",
   "metadata": {},
   "outputs": [
    {
     "name": "stdout",
     "output_type": "stream",
     "text": [
      "Using device: cuda\n"
     ]
    }
   ],
   "source": [
    "# Setup device agnostic code\n",
    "device = \"cuda\" if torch.cuda.is_available() else \"cpu\"\n",
    "print(f\"Using device: {device}\")\n"
   ]
  },
  {
   "cell_type": "markdown",
   "id": "c29013a3-7326-4c0d-b45a-6b81d86bff09",
   "metadata": {},
   "source": [
    "## 1. Data"
   ]
  },
  {
   "cell_type": "code",
   "execution_count": 3,
   "id": "e647d60e-3de9-4d78-a9df-ae13677c3927",
   "metadata": {},
   "outputs": [
    {
     "data": {
      "text/plain": [
       "(tensor([[0.0000],\n",
       "         [0.0200],\n",
       "         [0.0400],\n",
       "         [0.0600],\n",
       "         [0.0800],\n",
       "         [0.1000],\n",
       "         [0.1200],\n",
       "         [0.1400],\n",
       "         [0.1600],\n",
       "         [0.1800]]),\n",
       " tensor([[0.3000],\n",
       "         [0.3140],\n",
       "         [0.3280],\n",
       "         [0.3420],\n",
       "         [0.3560],\n",
       "         [0.3700],\n",
       "         [0.3840],\n",
       "         [0.3980],\n",
       "         [0.4120],\n",
       "         [0.4260]]))"
      ]
     },
     "execution_count": 3,
     "metadata": {},
     "output_type": "execute_result"
    }
   ],
   "source": [
    "# Create some data using simple linear regression formula : y = weight * X + bias (same as y=mX+C)\n",
    "\n",
    "# First fix the weight & bias\n",
    "weight = 0.7\n",
    "bias =  0.3\n",
    "\n",
    "# create the ranges\n",
    "start = 0\n",
    "end = 1\n",
    "step = 0.02\n",
    "\n",
    "X = torch.arange(start , end, step).unsqueeze(dim=1) # unsqueeze the data in axis 1 so that it did not give the error in computing\n",
    "y = weight * X + bias\n",
    "\n",
    "# print first 10 values\n",
    "X[:10], y[:10]"
   ]
  },
  {
   "cell_type": "code",
   "execution_count": 4,
   "id": "0bf9dc0f-b2f2-4a07-bc1e-451530840314",
   "metadata": {},
   "outputs": [
    {
     "data": {
      "text/plain": [
       "(40, 10, 40, 10)"
      ]
     },
     "execution_count": 4,
     "metadata": {},
     "output_type": "execute_result"
    }
   ],
   "source": [
    "# We have the data. Now we hve to split data into train and test. we split them  in 80-20 format (train=80%; test=20%)\n",
    "\n",
    "# split\n",
    "train_split = int(0.8 * len(X))\n",
    "X_train, y_train = X[:train_split], y[:train_split]\n",
    "X_test, y_test = X[train_split:], y[train_split:]\n",
    "\n",
    "# length of the train and test data\n",
    "len(X_train), len(X_test), len(y_train), len(y_test)\n"
   ]
  },
  {
   "cell_type": "code",
   "execution_count": 5,
   "id": "458017b5-24df-481d-8d94-79ef2f7dd840",
   "metadata": {},
   "outputs": [],
   "source": [
    "# Now we want to visualize the train and test data compare the predictions\n",
    "\n",
    "def plot_train_test_pred(train_data=X_train,\n",
    "                         train_labels=y_train,\n",
    "                         test_data=X_test,\n",
    "                         test_labels=y_test,\n",
    "                         pred=None):\n",
    "    \"\"\"\n",
    "    Plots training data, test data and compares predictions.\n",
    "    \"\"\"\n",
    "\n",
    "    # plot the train data\n",
    "    plt.scatter(train_data, train_labels, c='b', s=4, label=\"Training Data\")\n",
    "\n",
    "    #plot the test data\n",
    "    plt.scatter(test_data, test_labels, c='g', s=4, label='Test Data')\n",
    "\n",
    "\n",
    "    if pred is not None:\n",
    "        plt.scatter(test_data, pred, c='r', s=4, label='Predictions')\n",
    "\n",
    "    # Show the legend\n",
    "    plt.legend(prop={\"size\": 14})"
   ]
  },
  {
   "cell_type": "code",
   "execution_count": 6,
   "id": "70511d72-9281-46ee-bced-b9200354be0d",
   "metadata": {},
   "outputs": [
    {
     "data": {
      "image/png": "[encoded data removed]",
      "text/plain": [
       "<Figure size 640x480 with 1 Axes>"
      ]
     },
     "metadata": {},
     "output_type": "display_data"
    }
   ],
   "source": [
    "plot_train_test_pred()"
   ]
  },
  {
   "cell_type": "markdown",
   "id": "f81d62ee-5f63-4e7a-9a3a-f124127e39d5",
   "metadata": {},
   "source": [
    "## 2. Building a PyTorch Linear Model"
   ]
  },
  {
   "cell_type": "code",
   "execution_count": 7,
   "id": "24a6c584-e938-4d19-8194-dd497c6f2f79",
   "metadata": {},
   "outputs": [
    {
     "data": {
      "text/plain": [
       "(LinearRegressionModelV2(\n",
       "   (linear_layer): Linear(in_features=1, out_features=1, bias=True)\n",
       " ),\n",
       " OrderedDict([('linear_layer.weight', tensor([[0.7645]])),\n",
       "              ('linear_layer.bias', tensor([0.8300]))]),\n",
       " Parameter containing:\n",
       " tensor([[0.7645]], requires_grad=True))"
      ]
     },
     "execution_count": 7,
     "metadata": {},
     "output_type": "execute_result"
    }
   ],
   "source": [
    "# now we create the Linear Regression Model by subclassing nn.Module module\n",
    "\n",
    "class LinearRegressionModelV2(nn.Module):\n",
    "    def __init__(self):\n",
    "        super().__init__()\n",
    "        # using nn.Linear() to create the model parameters\n",
    "        self.linear_layer = nn.Linear(in_features=1, out_features=1) # as our feature 1 and ouotput is also 1 \n",
    "\n",
    "    # Define the forward computation (input data x flows through nn.Linear())\n",
    "    def forward(self, x: torch.Tensor) -> torch.Tensor:\n",
    "        return self.linear_layer(x)\n",
    "\n",
    "\n",
    "# Create manual seed \n",
    "torch.manual_seed(42)\n",
    "\n",
    "# Create model instance\n",
    "model_1 = LinearRegressionModelV2()\n",
    "\n",
    "model_1, model_1.state_dict(), next(model_1.parameters())"
   ]
  },
  {
   "cell_type": "code",
   "execution_count": 8,
   "id": "b9ff09b7-a40c-496f-9cc9-942505b403a3",
   "metadata": {},
   "outputs": [
    {
     "data": {
      "text/plain": [
       "device(type='cpu')"
      ]
     },
     "execution_count": 8,
     "metadata": {},
     "output_type": "execute_result"
    }
   ],
   "source": [
    "# Check the model device\n",
    "next(model_1.parameters()).device"
   ]
  },
  {
   "cell_type": "code",
   "execution_count": 9,
   "id": "de7249ce-f2c0-4d2c-abd3-7cf5e2c76180",
   "metadata": {},
   "outputs": [
    {
     "data": {
      "text/plain": [
       "device(type='cuda', index=0)"
      ]
     },
     "execution_count": 9,
     "metadata": {},
     "output_type": "execute_result"
    }
   ],
   "source": [
    "# Set the model to use the target device\n",
    "model_1.to(device)\n",
    "next(model_1.parameters()).device"
   ]
  },
  {
   "cell_type": "code",
   "execution_count": 10,
   "id": "e1a9b3ba-4d3a-4cf5-b6ac-ac5210128b7d",
   "metadata": {},
   "outputs": [
    {
     "name": "stdout",
     "output_type": "stream",
     "text": [
      "Sun Jan 26 17:00:24 2025       \n",
      "+---------------------------------------------------------------------------------------+\n",
      "| NVIDIA-SMI 535.183.01             Driver Version: 535.183.01   CUDA Version: 12.2     |\n",
      "|-----------------------------------------+----------------------+----------------------+\n",
      "| GPU  Name                 Persistence-M | Bus-Id        Disp.A | Volatile Uncorr. ECC |\n",
      "| Fan  Temp   Perf          Pwr:Usage/Cap |         Memory-Usage | GPU-Util  Compute M. |\n",
      "|                                         |                      |               MIG M. |\n",
      "|=========================================+======================+======================|\n",
      "|   0  NVIDIA GeForce GTX 1050 Ti     Off | 00000000:01:00.0  On |                  N/A |\n",
      "| N/A   39C    P0              N/A /  16W |     95MiB /  4096MiB |      0%      Default |\n",
      "|                                         |                      |                  N/A |\n",
      "+-----------------------------------------+----------------------+----------------------+\n",
      "                                                                                         \n",
      "+---------------------------------------------------------------------------------------+\n",
      "| Processes:                                                                            |\n",
      "|  GPU   GI   CI        PID   Type   Process name                            GPU Memory |\n",
      "|        ID   ID                                                             Usage      |\n",
      "|=======================================================================================|\n",
      "|    0   N/A  N/A      1360      G   /usr/lib/xorg/Xorg                           45MiB |\n",
      "|    0   N/A  N/A    191750      C   ...loy/anaconda3/envs/torch/bin/python       46MiB |\n",
      "+---------------------------------------------------------------------------------------+\n"
     ]
    }
   ],
   "source": [
    "!nvidia-smi"
   ]
  },
  {
   "cell_type": "code",
   "execution_count": 11,
   "id": "6c852961-d57a-44d7-b8f2-dd63c4631a42",
   "metadata": {},
   "outputs": [
    {
     "data": {
      "text/plain": [
       "OrderedDict([('linear_layer.weight', tensor([[0.7645]], device='cuda:0')),\n",
       "             ('linear_layer.bias', tensor([0.8300], device='cuda:0'))])"
      ]
     },
     "execution_count": 11,
     "metadata": {},
     "output_type": "execute_result"
    }
   ],
   "source": [
    "model_1.state_dict()"
   ]
  },
  {
   "cell_type": "markdown",
   "id": "8dabd43d-5e7b-453d-b19d-9626d78d207b",
   "metadata": {},
   "source": [
    "## 3. Training\n",
    "For the training we need the following steps\n",
    "- Loss Function\n",
    "- Optimizer\n",
    "- Training Loop\n",
    "- Testing Loop"
   ]
  },
  {
   "cell_type": "code",
   "execution_count": 12,
   "id": "d95f65ec-dca8-4c02-adf4-e28e909b03d2",
   "metadata": {},
   "outputs": [],
   "source": [
    "# Create loss function\n",
    "loss_fn = nn.L1Loss()\n",
    "\n",
    "# Create Optimizer\n",
    "optimizer = torch.optim.SGD(params=model_1.parameters(), lr=0.01)\n"
   ]
  },
  {
   "cell_type": "code",
   "execution_count": 14,
   "id": "fbb026ab-d7f2-406c-96f3-06b907b5cba0",
   "metadata": {},
   "outputs": [
    {
     "name": "stdout",
     "output_type": "stream",
     "text": [
      "Epoch: 0 | Train Loss: 0.5436570048332214 | Test loss: 0.560505211353302\n",
      "Epoch: 10 | Train Loss: 0.42844706773757935 | Test loss: 0.42579540610313416\n",
      "Epoch: 20 | Train Loss: 0.31323719024658203 | Test loss: 0.2910855710506439\n",
      "Epoch: 30 | Train Loss: 0.1980273425579071 | Test loss: 0.15637575089931488\n",
      "Epoch: 40 | Train Loss: 0.0828174576163292 | Test loss: 0.021665919572114944\n",
      "Epoch: 50 | Train Loss: 0.023356428369879723 | Test loss: 0.04883447289466858\n",
      "Epoch: 60 | Train Loss: 0.019609849900007248 | Test loss: 0.04538799077272415\n",
      "Epoch: 70 | Train Loss: 0.01618141122162342 | Test loss: 0.03711546212434769\n",
      "Epoch: 80 | Train Loss: 0.012742983177304268 | Test loss: 0.028842901811003685\n",
      "Epoch: 90 | Train Loss: 0.00930792186409235 | Test loss: 0.02125724032521248\n",
      "Epoch: 100 | Train Loss: 0.005878167692571878 | Test loss: 0.012984705157577991\n",
      "Epoch: 110 | Train Loss: 0.0024393596686422825 | Test loss: 0.004712170455604792\n",
      "Epoch: 120 | Train Loss: 0.010256479494273663 | Test loss: 0.00033081771107390523\n",
      "Epoch: 130 | Train Loss: 0.010256479494273663 | Test loss: 0.00033081771107390523\n",
      "Epoch: 140 | Train Loss: 0.010256479494273663 | Test loss: 0.00033081771107390523\n",
      "Epoch: 150 | Train Loss: 0.010256479494273663 | Test loss: 0.00033081771107390523\n",
      "Epoch: 160 | Train Loss: 0.010256479494273663 | Test loss: 0.00033081771107390523\n",
      "Epoch: 170 | Train Loss: 0.010256479494273663 | Test loss: 0.00033081771107390523\n",
      "Epoch: 180 | Train Loss: 0.010256479494273663 | Test loss: 0.00033081771107390523\n",
      "Epoch: 190 | Train Loss: 0.010256479494273663 | Test loss: 0.00033081771107390523\n"
     ]
    }
   ],
   "source": [
    "# Now write the Training loop\n",
    "\n",
    "# setup the seed\n",
    "torch.manual_seed(42)\n",
    "\n",
    "# setup the epochs\n",
    "epochs = 200\n",
    "\n",
    "# put the data on device (device agnostic code for data)\n",
    "X_train = X_train.to(device)\n",
    "y_train = y_train.to(device)\n",
    "X_test = X_test.to(device)\n",
    "y_test = y_test.to(device)\n",
    "\n",
    "# Create empty loss lists to track values\n",
    "train_loss_values = []\n",
    "test_loss_values = []\n",
    "epoch_count = []\n",
    "\n",
    "for epoch in range(epochs):\n",
    "\n",
    "    # start with train()\n",
    "    model_1.train()\n",
    "\n",
    "    # 1. Forward pass\n",
    "    y_pred = model_1(X_train)\n",
    "\n",
    "    # 2. Calculate the loss\n",
    "    train_loss = loss_fn(y_pred, y_train)\n",
    "\n",
    "    # 3. Optimizer zero grad\n",
    "    optimizer.zero_grad()\n",
    "\n",
    "    # 4. Perform Backpropagation (always on loss)\n",
    "    train_loss.backward()\n",
    "\n",
    "    # 5. Optimizer step -> gradient descent\n",
    "    optimizer.step()\n",
    "\n",
    "    ### Testing Loop\n",
    "\n",
    "    # always start with eval()\n",
    "    model_1.eval()\n",
    "\n",
    "    with torch.inference_mode():\n",
    "        \n",
    "        # 1. Forward pass\n",
    "        test_pred = model_1(X_test)\n",
    "\n",
    "        # 2. Test Loss\n",
    "        test_loss = loss_fn(test_pred, y_test)\n",
    "    \n",
    "    # print out the result\n",
    "    if epoch % 10 == 0:\n",
    "        epoch_count.append(epoch)\n",
    "        train_loss_values.append(train_loss.cpu().detach().numpy())\n",
    "        test_loss_values.append(test_loss.cpu().detach().numpy())\n",
    "        print(f\"Epoch: {epoch} | Train Loss: {train_loss} | Test loss: {test_loss}\")"
   ]
  },
  {
   "cell_type": "code",
   "execution_count": 16,
   "id": "a0f82e68-9d0e-4337-9aa6-72b994a66279",
   "metadata": {},
   "outputs": [
    {
     "data": {
      "image/png": "[encoded data removed]",
      "text/plain": [
       "<Figure size 640x480 with 1 Axes>"
      ]
     },
     "metadata": {},
     "output_type": "display_data"
    }
   ],
   "source": [
    "# Plot the loss curves\n",
    "plt.plot(epoch_count, train_loss_values, label=\"Train loss\")\n",
    "plt.plot(epoch_count, test_loss_values, label=\"Test loss\")\n",
    "plt.title(\"Training and test loss curves\")\n",
    "plt.ylabel(\"Loss\")\n",
    "plt.xlabel(\"Epochs\")\n",
    "plt.legend();"
   ]
  },
  {
   "cell_type": "code",
   "execution_count": 18,
   "id": "b80cddb5-20fd-4719-aad4-021bec2d4765",
   "metadata": {},
   "outputs": [
    {
     "data": {
      "text/plain": [
       "OrderedDict([('linear_layer.weight', tensor([[0.6929]], device='cuda:0')),\n",
       "             ('linear_layer.bias', tensor([0.2925], device='cuda:0'))])"
      ]
     },
     "execution_count": 18,
     "metadata": {},
     "output_type": "execute_result"
    }
   ],
   "source": [
    "model_1.state_dict()"
   ]
  },
  {
   "cell_type": "code",
   "execution_count": 19,
   "id": "59ce6339-3739-4b2b-a5af-9703ef9c61bd",
   "metadata": {},
   "outputs": [
    {
     "data": {
      "text/plain": [
       "(0.7, 0.3)"
      ]
     },
     "execution_count": 19,
     "metadata": {},
     "output_type": "execute_result"
    }
   ],
   "source": [
    "weight, bias"
   ]
  },
  {
   "cell_type": "markdown",
   "id": "a1d673ad-698c-41a9-9c28-53c178530364",
   "metadata": {},
   "source": [
    "### Making and Evaluating Predictions"
   ]
  },
  {
   "cell_type": "code",
   "execution_count": 20,
   "id": "a0e692bc-e41c-445f-9e96-a42b5ac8e2e7",
   "metadata": {},
   "outputs": [
    {
     "data": {
      "text/plain": [
       "tensor([[0.8468],\n",
       "        [0.8607],\n",
       "        [0.8746],\n",
       "        [0.8884],\n",
       "        [0.9023],\n",
       "        [0.9161],\n",
       "        [0.9300],\n",
       "        [0.9438],\n",
       "        [0.9577],\n",
       "        [0.9716]], device='cuda:0')"
      ]
     },
     "execution_count": 20,
     "metadata": {},
     "output_type": "execute_result"
    }
   ],
   "source": [
    "# first eval mode\n",
    "model_1.eval()\n",
    "\n",
    "with torch.inference_mode():\n",
    "    y_pred_new = model_1(X_test)\n",
    "y_pred_new"
   ]
  },
  {
   "cell_type": "code",
   "execution_count": 21,
   "id": "a9c6aa40-5ec5-4247-a2a1-4d021da50d8f",
   "metadata": {},
   "outputs": [
    {
     "data": {
      "image/png": "[encoded data removed]",
      "text/plain": [
       "<Figure size 640x480 with 1 Axes>"
      ]
     },
     "metadata": {},
     "output_type": "display_data"
    }
   ],
   "source": [
    "# Visualize the prediction\n",
    "plot_train_test_pred(pred=y_pred_new.cpu())"
   ]
  },
  {
   "cell_type": "markdown",
   "id": "ff06cab6-8711-46d4-b0e8-2c51a4070573",
   "metadata": {},
   "source": [
    "## Saving and Loading the Model\n",
    "- Save the parameters\n",
    "- Load the model"
   ]
  },
  {
   "cell_type": "code",
   "execution_count": 22,
   "id": "109141a2-0703-46c8-b909-7c1ec5963990",
   "metadata": {},
   "outputs": [
    {
     "name": "stdout",
     "output_type": "stream",
     "text": [
      "Saving model to: models/01_pytorch_workflow_SimpleLRMV2.pth\n"
     ]
    }
   ],
   "source": [
    "# Create directory and file for saving the model\n",
    "\n",
    "from pathlib import Path\n",
    "\n",
    "# Create Model Directory\n",
    "MODEL_PATH = Path(\"models\")\n",
    "MODEL_PATH.mkdir(parents=True, exist_ok=True)\n",
    "\n",
    "# Create Model Save Path\n",
    "MODEL_NAME = \"01_pytorch_workflow_SimpleLRMV2.pth\"\n",
    "MODEL_SAVE_PATH = MODEL_PATH / MODEL_NAME\n",
    "\n",
    "# Save the model state dict\n",
    "print(f\"Saving model to: {MODEL_SAVE_PATH}\")\n",
    "torch.save(obj=model_1.state_dict(), f=MODEL_SAVE_PATH)\n"
   ]
  },
  {
   "cell_type": "code",
   "execution_count": 23,
   "id": "c5cb324c-fa56-4364-89a3-0d63bc63d235",
   "metadata": {},
   "outputs": [
    {
     "name": "stderr",
     "output_type": "stream",
     "text": [
      "/tmp/ipykernel_191750/2304840694.py:7: FutureWarning: You are using `torch.load` with `weights_only=False` (the current default value), which uses the default pickle module implicitly. It is possible to construct malicious pickle data which will execute arbitrary code during unpickling (See https://github.com/pytorch/pytorch/blob/main/SECURITY.md#untrusted-models for more details). In a future release, the default value for `weights_only` will be flipped to `True`. This limits the functions that could be executed during unpickling. Arbitrary objects will no longer be allowed to be loaded via this mode unless they are explicitly allowlisted by the user via `torch.serialization.add_safe_globals`. We recommend you start setting `weights_only=True` for any use case where you don't have full control of the loaded file. Please open an issue on GitHub for any issues related to this experimental feature.\n",
      "  loaded_model_1.load_state_dict(torch.load(f=MODEL_SAVE_PATH))\n"
     ]
    },
    {
     "data": {
      "text/plain": [
       "LinearRegressionModelV2(\n",
       "  (linear_layer): Linear(in_features=1, out_features=1, bias=True)\n",
       ")"
      ]
     },
     "execution_count": 23,
     "metadata": {},
     "output_type": "execute_result"
    }
   ],
   "source": [
    "### Load the Model\n",
    "\n",
    "# start with creating model instance\n",
    "loaded_model_1 = LinearRegressionModelV2()\n",
    "\n",
    "# load the saved model state dict\n",
    "loaded_model_1.load_state_dict(torch.load(f=MODEL_SAVE_PATH))\n",
    "\n",
    "# put the loaded model to the device\n",
    "loaded_model_1.to(device)"
   ]
  },
  {
   "cell_type": "code",
   "execution_count": 24,
   "id": "29b652a6-1c13-43aa-8081-b38c2f83b887",
   "metadata": {},
   "outputs": [
    {
     "data": {
      "text/plain": [
       "device(type='cuda', index=0)"
      ]
     },
     "execution_count": 24,
     "metadata": {},
     "output_type": "execute_result"
    }
   ],
   "source": [
    "# checking the loaded model device\n",
    "next(loaded_model_1.parameters()).device"
   ]
  },
  {
   "cell_type": "code",
   "execution_count": 25,
   "id": "1a4b8fe0-df26-4c4d-9204-721030444329",
   "metadata": {},
   "outputs": [
    {
     "data": {
      "text/plain": [
       "OrderedDict([('linear_layer.weight', tensor([[0.6929]], device='cuda:0')),\n",
       "             ('linear_layer.bias', tensor([0.2925], device='cuda:0'))])"
      ]
     },
     "execution_count": 25,
     "metadata": {},
     "output_type": "execute_result"
    }
   ],
   "source": [
    "# loaded models state dict\n",
    "loaded_model_1.state_dict()"
   ]
  },
  {
   "cell_type": "code",
   "execution_count": 26,
   "id": "bc26cabb-f523-4874-a4ce-1810e0b2bae1",
   "metadata": {},
   "outputs": [
    {
     "data": {
      "text/plain": [
       "tensor([[True],\n",
       "        [True],\n",
       "        [True],\n",
       "        [True],\n",
       "        [True],\n",
       "        [True],\n",
       "        [True],\n",
       "        [True],\n",
       "        [True],\n",
       "        [True]], device='cuda:0')"
      ]
     },
     "execution_count": 26,
     "metadata": {},
     "output_type": "execute_result"
    }
   ],
   "source": [
    "# Evaluated Model\n",
    "loaded_model_1.eval()\n",
    "with torch.inference_mode():\n",
    "    loaded_pred = loaded_model_1(X_test)\n",
    "y_pred_new == loaded_pred"
   ]
  }
 ],
 "metadata": {
  "kernelspec": {
   "display_name": "Python 3 (ipykernel)",
   "language": "python",
   "name": "python3"
  },
  "language_info": {
   "codemirror_mode": {
    "name": "ipython",
    "version": 3
   },
   "file_extension": ".py",
   "mimetype": "text/x-python",
   "name": "python",
   "nbconvert_exporter": "python",
   "pygments_lexer": "ipython3",
   "version": "3.12.8"
  }
 },
 "nbformat": 4,
 "nbformat_minor": 5
}
